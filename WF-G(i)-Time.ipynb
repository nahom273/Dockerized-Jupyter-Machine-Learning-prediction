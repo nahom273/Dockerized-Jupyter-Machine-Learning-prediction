{
 "cells": [
  {
   "cell_type": "code",
   "execution_count": 1,
   "id": "34bcb352",
   "metadata": {},
   "outputs": [],
   "source": [
    "import tensorflow as tf\n",
    "import os\n",
    "import pandas as pd\n",
    "import numpy as np\n",
    "import matplotlib as plt\n",
    "from sklearn.metrics import mean_squared_error as mse\n",
    "from sklearn.preprocessing import MinMaxScaler\n",
    "import warnings\n",
    "import matplotlib.pyplot as plt\n",
    "warnings.filterwarnings('ignore')\n",
    "%matplotlib inline"
   ]
  },
  {
   "cell_type": "code",
   "execution_count": 2,
   "id": "8de1d777",
   "metadata": {},
   "outputs": [],
   "source": [
    "df = pd.read_csv('timeseries.csv')\n"
   ]
  },
  {
   "cell_type": "code",
   "execution_count": 3,
   "id": "4aafd42e",
   "metadata": {
    "scrolled": true
   },
   "outputs": [
    {
     "data": {
      "text/html": [
       "<div>\n",
       "<style scoped>\n",
       "    .dataframe tbody tr th:only-of-type {\n",
       "        vertical-align: middle;\n",
       "    }\n",
       "\n",
       "    .dataframe tbody tr th {\n",
       "        vertical-align: top;\n",
       "    }\n",
       "\n",
       "    .dataframe thead th {\n",
       "        text-align: right;\n",
       "    }\n",
       "</style>\n",
       "<table border=\"1\" class=\"dataframe\">\n",
       "  <thead>\n",
       "    <tr style=\"text-align: right;\">\n",
       "      <th></th>\n",
       "      <th>G(i)</th>\n",
       "    </tr>\n",
       "    <tr>\n",
       "      <th>time</th>\n",
       "      <th></th>\n",
       "    </tr>\n",
       "  </thead>\n",
       "  <tbody>\n",
       "    <tr>\n",
       "      <th>2010-01-01 00:07:00</th>\n",
       "      <td>0</td>\n",
       "    </tr>\n",
       "    <tr>\n",
       "      <th>2010-01-01 01:07:00</th>\n",
       "      <td>0</td>\n",
       "    </tr>\n",
       "    <tr>\n",
       "      <th>2010-01-01 02:07:00</th>\n",
       "      <td>0</td>\n",
       "    </tr>\n",
       "    <tr>\n",
       "      <th>2010-01-01 03:07:00</th>\n",
       "      <td>0</td>\n",
       "    </tr>\n",
       "    <tr>\n",
       "      <th>2010-01-01 04:07:00</th>\n",
       "      <td>91.98</td>\n",
       "    </tr>\n",
       "    <tr>\n",
       "      <th>...</th>\n",
       "      <td>...</td>\n",
       "    </tr>\n",
       "    <tr>\n",
       "      <th>2020-12-31 18:07:00</th>\n",
       "      <td>0</td>\n",
       "    </tr>\n",
       "    <tr>\n",
       "      <th>2020-12-31 19:07:00</th>\n",
       "      <td>0</td>\n",
       "    </tr>\n",
       "    <tr>\n",
       "      <th>2020-12-31 20:07:00</th>\n",
       "      <td>0</td>\n",
       "    </tr>\n",
       "    <tr>\n",
       "      <th>2020-12-31 21:07:00</th>\n",
       "      <td>0</td>\n",
       "    </tr>\n",
       "    <tr>\n",
       "      <th>2020-12-31 22:07:00</th>\n",
       "      <td>0</td>\n",
       "    </tr>\n",
       "  </tbody>\n",
       "</table>\n",
       "<p>96431 rows × 1 columns</p>\n",
       "</div>"
      ],
      "text/plain": [
       "                      G(i)\n",
       "time                      \n",
       "2010-01-01 00:07:00      0\n",
       "2010-01-01 01:07:00      0\n",
       "2010-01-01 02:07:00      0\n",
       "2010-01-01 03:07:00      0\n",
       "2010-01-01 04:07:00  91.98\n",
       "...                    ...\n",
       "2020-12-31 18:07:00      0\n",
       "2020-12-31 19:07:00      0\n",
       "2020-12-31 20:07:00      0\n",
       "2020-12-31 21:07:00      0\n",
       "2020-12-31 22:07:00      0\n",
       "\n",
       "[96431 rows x 1 columns]"
      ]
     },
     "execution_count": 3,
     "metadata": {},
     "output_type": "execute_result"
    }
   ],
   "source": [
    "df = df.dropna(subset=['time']) \n",
    "df.tail(20)\n",
    "df = df[:96431:]\n",
    "# df['time'][78886]\n",
    "df.index = pd.to_datetime(df['time'], format='%Y%m%d:%H%M')\n",
    "df =  df.drop([\"time\",\"H_sun\",\"T2m\",\"WS10m\",\"Int\"], axis = 1)\n",
    "df"
   ]
  },
  {
   "cell_type": "code",
   "execution_count": 4,
   "id": "6d906f33-3d0b-4ca5-8fc8-c9764af28eb6",
   "metadata": {},
   "outputs": [
    {
     "data": {
      "text/html": [
       "<div>\n",
       "<style scoped>\n",
       "    .dataframe tbody tr th:only-of-type {\n",
       "        vertical-align: middle;\n",
       "    }\n",
       "\n",
       "    .dataframe tbody tr th {\n",
       "        vertical-align: top;\n",
       "    }\n",
       "\n",
       "    .dataframe thead th {\n",
       "        text-align: right;\n",
       "    }\n",
       "</style>\n",
       "<table border=\"1\" class=\"dataframe\">\n",
       "  <thead>\n",
       "    <tr style=\"text-align: right;\">\n",
       "      <th></th>\n",
       "      <th>G(i)</th>\n",
       "      <th>Seconds</th>\n",
       "    </tr>\n",
       "    <tr>\n",
       "      <th>time</th>\n",
       "      <th></th>\n",
       "      <th></th>\n",
       "    </tr>\n",
       "  </thead>\n",
       "  <tbody>\n",
       "    <tr>\n",
       "      <th>2010-01-01 00:07:00</th>\n",
       "      <td>0</td>\n",
       "      <td>1.262304e+09</td>\n",
       "    </tr>\n",
       "    <tr>\n",
       "      <th>2010-01-01 01:07:00</th>\n",
       "      <td>0</td>\n",
       "      <td>1.262308e+09</td>\n",
       "    </tr>\n",
       "    <tr>\n",
       "      <th>2010-01-01 02:07:00</th>\n",
       "      <td>0</td>\n",
       "      <td>1.262312e+09</td>\n",
       "    </tr>\n",
       "    <tr>\n",
       "      <th>2010-01-01 03:07:00</th>\n",
       "      <td>0</td>\n",
       "      <td>1.262315e+09</td>\n",
       "    </tr>\n",
       "    <tr>\n",
       "      <th>2010-01-01 04:07:00</th>\n",
       "      <td>91.98</td>\n",
       "      <td>1.262319e+09</td>\n",
       "    </tr>\n",
       "    <tr>\n",
       "      <th>...</th>\n",
       "      <td>...</td>\n",
       "      <td>...</td>\n",
       "    </tr>\n",
       "    <tr>\n",
       "      <th>2020-12-31 18:07:00</th>\n",
       "      <td>0</td>\n",
       "      <td>1.609438e+09</td>\n",
       "    </tr>\n",
       "    <tr>\n",
       "      <th>2020-12-31 19:07:00</th>\n",
       "      <td>0</td>\n",
       "      <td>1.609442e+09</td>\n",
       "    </tr>\n",
       "    <tr>\n",
       "      <th>2020-12-31 20:07:00</th>\n",
       "      <td>0</td>\n",
       "      <td>1.609445e+09</td>\n",
       "    </tr>\n",
       "    <tr>\n",
       "      <th>2020-12-31 21:07:00</th>\n",
       "      <td>0</td>\n",
       "      <td>1.609449e+09</td>\n",
       "    </tr>\n",
       "    <tr>\n",
       "      <th>2020-12-31 22:07:00</th>\n",
       "      <td>0</td>\n",
       "      <td>1.609452e+09</td>\n",
       "    </tr>\n",
       "  </tbody>\n",
       "</table>\n",
       "<p>96431 rows × 2 columns</p>\n",
       "</div>"
      ],
      "text/plain": [
       "                      G(i)       Seconds\n",
       "time                                    \n",
       "2010-01-01 00:07:00      0  1.262304e+09\n",
       "2010-01-01 01:07:00      0  1.262308e+09\n",
       "2010-01-01 02:07:00      0  1.262312e+09\n",
       "2010-01-01 03:07:00      0  1.262315e+09\n",
       "2010-01-01 04:07:00  91.98  1.262319e+09\n",
       "...                    ...           ...\n",
       "2020-12-31 18:07:00      0  1.609438e+09\n",
       "2020-12-31 19:07:00      0  1.609442e+09\n",
       "2020-12-31 20:07:00      0  1.609445e+09\n",
       "2020-12-31 21:07:00      0  1.609449e+09\n",
       "2020-12-31 22:07:00      0  1.609452e+09\n",
       "\n",
       "[96431 rows x 2 columns]"
      ]
     },
     "execution_count": 4,
     "metadata": {},
     "output_type": "execute_result"
    }
   ],
   "source": [
    "df[\"Seconds\"] = df.index.map(pd.Timestamp.timestamp)\n",
    "df"
   ]
  },
  {
   "cell_type": "code",
   "execution_count": 5,
   "id": "e7a10218-9a12-4785-96e5-503bee3b053b",
   "metadata": {},
   "outputs": [
    {
     "data": {
      "text/html": [
       "<div>\n",
       "<style scoped>\n",
       "    .dataframe tbody tr th:only-of-type {\n",
       "        vertical-align: middle;\n",
       "    }\n",
       "\n",
       "    .dataframe tbody tr th {\n",
       "        vertical-align: top;\n",
       "    }\n",
       "\n",
       "    .dataframe thead th {\n",
       "        text-align: right;\n",
       "    }\n",
       "</style>\n",
       "<table border=\"1\" class=\"dataframe\">\n",
       "  <thead>\n",
       "    <tr style=\"text-align: right;\">\n",
       "      <th></th>\n",
       "      <th>G(i)</th>\n",
       "      <th>Seconds</th>\n",
       "      <th>day sin</th>\n",
       "      <th>day cos</th>\n",
       "    </tr>\n",
       "    <tr>\n",
       "      <th>time</th>\n",
       "      <th></th>\n",
       "      <th></th>\n",
       "      <th></th>\n",
       "      <th></th>\n",
       "    </tr>\n",
       "  </thead>\n",
       "  <tbody>\n",
       "    <tr>\n",
       "      <th>2010-01-01 00:07:00</th>\n",
       "      <td>0</td>\n",
       "      <td>1.262304e+09</td>\n",
       "      <td>0.030539</td>\n",
       "      <td>0.999534</td>\n",
       "    </tr>\n",
       "    <tr>\n",
       "      <th>2010-01-01 01:07:00</th>\n",
       "      <td>0</td>\n",
       "      <td>1.262308e+09</td>\n",
       "      <td>0.288196</td>\n",
       "      <td>0.957571</td>\n",
       "    </tr>\n",
       "    <tr>\n",
       "      <th>2010-01-01 02:07:00</th>\n",
       "      <td>0</td>\n",
       "      <td>1.262312e+09</td>\n",
       "      <td>0.526214</td>\n",
       "      <td>0.850352</td>\n",
       "    </tr>\n",
       "    <tr>\n",
       "      <th>2010-01-01 03:07:00</th>\n",
       "      <td>0</td>\n",
       "      <td>1.262315e+09</td>\n",
       "      <td>0.728371</td>\n",
       "      <td>0.685183</td>\n",
       "    </tr>\n",
       "    <tr>\n",
       "      <th>2010-01-01 04:07:00</th>\n",
       "      <td>91.98</td>\n",
       "      <td>1.262319e+09</td>\n",
       "      <td>0.880891</td>\n",
       "      <td>0.473320</td>\n",
       "    </tr>\n",
       "    <tr>\n",
       "      <th>...</th>\n",
       "      <td>...</td>\n",
       "      <td>...</td>\n",
       "      <td>...</td>\n",
       "      <td>...</td>\n",
       "    </tr>\n",
       "    <tr>\n",
       "      <th>2020-12-31 18:07:00</th>\n",
       "      <td>0</td>\n",
       "      <td>1.609438e+09</td>\n",
       "      <td>-0.999534</td>\n",
       "      <td>0.030539</td>\n",
       "    </tr>\n",
       "    <tr>\n",
       "      <th>2020-12-31 19:07:00</th>\n",
       "      <td>0</td>\n",
       "      <td>1.609442e+09</td>\n",
       "      <td>-0.957571</td>\n",
       "      <td>0.288196</td>\n",
       "    </tr>\n",
       "    <tr>\n",
       "      <th>2020-12-31 20:07:00</th>\n",
       "      <td>0</td>\n",
       "      <td>1.609445e+09</td>\n",
       "      <td>-0.850352</td>\n",
       "      <td>0.526214</td>\n",
       "    </tr>\n",
       "    <tr>\n",
       "      <th>2020-12-31 21:07:00</th>\n",
       "      <td>0</td>\n",
       "      <td>1.609449e+09</td>\n",
       "      <td>-0.685183</td>\n",
       "      <td>0.728371</td>\n",
       "    </tr>\n",
       "    <tr>\n",
       "      <th>2020-12-31 22:07:00</th>\n",
       "      <td>0</td>\n",
       "      <td>1.609452e+09</td>\n",
       "      <td>-0.473320</td>\n",
       "      <td>0.880891</td>\n",
       "    </tr>\n",
       "  </tbody>\n",
       "</table>\n",
       "<p>96431 rows × 4 columns</p>\n",
       "</div>"
      ],
      "text/plain": [
       "                      G(i)       Seconds   day sin   day cos\n",
       "time                                                        \n",
       "2010-01-01 00:07:00      0  1.262304e+09  0.030539  0.999534\n",
       "2010-01-01 01:07:00      0  1.262308e+09  0.288196  0.957571\n",
       "2010-01-01 02:07:00      0  1.262312e+09  0.526214  0.850352\n",
       "2010-01-01 03:07:00      0  1.262315e+09  0.728371  0.685183\n",
       "2010-01-01 04:07:00  91.98  1.262319e+09  0.880891  0.473320\n",
       "...                    ...           ...       ...       ...\n",
       "2020-12-31 18:07:00      0  1.609438e+09 -0.999534  0.030539\n",
       "2020-12-31 19:07:00      0  1.609442e+09 -0.957571  0.288196\n",
       "2020-12-31 20:07:00      0  1.609445e+09 -0.850352  0.526214\n",
       "2020-12-31 21:07:00      0  1.609449e+09 -0.685183  0.728371\n",
       "2020-12-31 22:07:00      0  1.609452e+09 -0.473320  0.880891\n",
       "\n",
       "[96431 rows x 4 columns]"
      ]
     },
     "execution_count": 5,
     "metadata": {},
     "output_type": "execute_result"
    }
   ],
   "source": [
    "day  = 60 * 60 * 24\n",
    "year =  365.2425 * day\n",
    "month = 30 * day\n",
    "\n",
    "df [\"day sin\"] = np.sin(df['Seconds'] * ( 2 * np.pi /day))\n",
    "df [\"day cos\"] = np.cos(df['Seconds'] * ( 2 * np.pi /day))\n",
    "# df [\"year sin\"] = np.sin(df['Seconds'] * ( 2 * np.pi /year))\n",
    "# df [\"year cos\"] = np.cos(df['Seconds'] * ( 2 * np.pi /year))\n",
    "df\n",
    "  "
   ]
  },
  {
   "cell_type": "code",
   "execution_count": 6,
   "id": "3edbaa41-a4b1-4530-9895-17c4b64aaf94",
   "metadata": {},
   "outputs": [
    {
     "data": {
      "text/html": [
       "<div>\n",
       "<style scoped>\n",
       "    .dataframe tbody tr th:only-of-type {\n",
       "        vertical-align: middle;\n",
       "    }\n",
       "\n",
       "    .dataframe tbody tr th {\n",
       "        vertical-align: top;\n",
       "    }\n",
       "\n",
       "    .dataframe thead th {\n",
       "        text-align: right;\n",
       "    }\n",
       "</style>\n",
       "<table border=\"1\" class=\"dataframe\">\n",
       "  <thead>\n",
       "    <tr style=\"text-align: right;\">\n",
       "      <th></th>\n",
       "      <th>G(i)</th>\n",
       "      <th>day sin</th>\n",
       "      <th>day cos</th>\n",
       "    </tr>\n",
       "    <tr>\n",
       "      <th>time</th>\n",
       "      <th></th>\n",
       "      <th></th>\n",
       "      <th></th>\n",
       "    </tr>\n",
       "  </thead>\n",
       "  <tbody>\n",
       "    <tr>\n",
       "      <th>2010-01-01 00:07:00</th>\n",
       "      <td>0</td>\n",
       "      <td>0.030539</td>\n",
       "      <td>0.999534</td>\n",
       "    </tr>\n",
       "    <tr>\n",
       "      <th>2010-01-01 01:07:00</th>\n",
       "      <td>0</td>\n",
       "      <td>0.288196</td>\n",
       "      <td>0.957571</td>\n",
       "    </tr>\n",
       "    <tr>\n",
       "      <th>2010-01-01 02:07:00</th>\n",
       "      <td>0</td>\n",
       "      <td>0.526214</td>\n",
       "      <td>0.850352</td>\n",
       "    </tr>\n",
       "    <tr>\n",
       "      <th>2010-01-01 03:07:00</th>\n",
       "      <td>0</td>\n",
       "      <td>0.728371</td>\n",
       "      <td>0.685183</td>\n",
       "    </tr>\n",
       "    <tr>\n",
       "      <th>2010-01-01 04:07:00</th>\n",
       "      <td>91.98</td>\n",
       "      <td>0.880891</td>\n",
       "      <td>0.473320</td>\n",
       "    </tr>\n",
       "    <tr>\n",
       "      <th>2010-01-01 05:07:00</th>\n",
       "      <td>432.28</td>\n",
       "      <td>0.973379</td>\n",
       "      <td>0.229200</td>\n",
       "    </tr>\n",
       "    <tr>\n",
       "      <th>2010-01-01 06:07:00</th>\n",
       "      <td>681.34</td>\n",
       "      <td>0.999534</td>\n",
       "      <td>-0.030539</td>\n",
       "    </tr>\n",
       "    <tr>\n",
       "      <th>2010-01-01 07:07:00</th>\n",
       "      <td>867.69</td>\n",
       "      <td>0.957571</td>\n",
       "      <td>-0.288196</td>\n",
       "    </tr>\n",
       "    <tr>\n",
       "      <th>2010-01-01 08:07:00</th>\n",
       "      <td>987.62</td>\n",
       "      <td>0.850352</td>\n",
       "      <td>-0.526214</td>\n",
       "    </tr>\n",
       "    <tr>\n",
       "      <th>2010-01-01 09:07:00</th>\n",
       "      <td>1034.38</td>\n",
       "      <td>0.685183</td>\n",
       "      <td>-0.728371</td>\n",
       "    </tr>\n",
       "    <tr>\n",
       "      <th>2010-01-01 10:07:00</th>\n",
       "      <td>998.94</td>\n",
       "      <td>0.473320</td>\n",
       "      <td>-0.880891</td>\n",
       "    </tr>\n",
       "    <tr>\n",
       "      <th>2010-01-01 11:07:00</th>\n",
       "      <td>887.09</td>\n",
       "      <td>0.229200</td>\n",
       "      <td>-0.973379</td>\n",
       "    </tr>\n",
       "    <tr>\n",
       "      <th>2010-01-01 12:07:00</th>\n",
       "      <td>702.6</td>\n",
       "      <td>-0.030539</td>\n",
       "      <td>-0.999534</td>\n",
       "    </tr>\n",
       "    <tr>\n",
       "      <th>2010-01-01 13:07:00</th>\n",
       "      <td>472.43</td>\n",
       "      <td>-0.288196</td>\n",
       "      <td>-0.957571</td>\n",
       "    </tr>\n",
       "    <tr>\n",
       "      <th>2010-01-01 14:07:00</th>\n",
       "      <td>208.97</td>\n",
       "      <td>-0.526214</td>\n",
       "      <td>-0.850352</td>\n",
       "    </tr>\n",
       "    <tr>\n",
       "      <th>2010-01-01 15:07:00</th>\n",
       "      <td>0</td>\n",
       "      <td>-0.728371</td>\n",
       "      <td>-0.685183</td>\n",
       "    </tr>\n",
       "    <tr>\n",
       "      <th>2010-01-01 16:07:00</th>\n",
       "      <td>0</td>\n",
       "      <td>-0.880891</td>\n",
       "      <td>-0.473320</td>\n",
       "    </tr>\n",
       "    <tr>\n",
       "      <th>2010-01-01 17:07:00</th>\n",
       "      <td>0</td>\n",
       "      <td>-0.973379</td>\n",
       "      <td>-0.229200</td>\n",
       "    </tr>\n",
       "    <tr>\n",
       "      <th>2010-01-01 18:07:00</th>\n",
       "      <td>0</td>\n",
       "      <td>-0.999534</td>\n",
       "      <td>0.030539</td>\n",
       "    </tr>\n",
       "    <tr>\n",
       "      <th>2010-01-01 19:07:00</th>\n",
       "      <td>0</td>\n",
       "      <td>-0.957571</td>\n",
       "      <td>0.288196</td>\n",
       "    </tr>\n",
       "  </tbody>\n",
       "</table>\n",
       "</div>"
      ],
      "text/plain": [
       "                        G(i)   day sin   day cos\n",
       "time                                            \n",
       "2010-01-01 00:07:00        0  0.030539  0.999534\n",
       "2010-01-01 01:07:00        0  0.288196  0.957571\n",
       "2010-01-01 02:07:00        0  0.526214  0.850352\n",
       "2010-01-01 03:07:00        0  0.728371  0.685183\n",
       "2010-01-01 04:07:00    91.98  0.880891  0.473320\n",
       "2010-01-01 05:07:00   432.28  0.973379  0.229200\n",
       "2010-01-01 06:07:00   681.34  0.999534 -0.030539\n",
       "2010-01-01 07:07:00   867.69  0.957571 -0.288196\n",
       "2010-01-01 08:07:00   987.62  0.850352 -0.526214\n",
       "2010-01-01 09:07:00  1034.38  0.685183 -0.728371\n",
       "2010-01-01 10:07:00   998.94  0.473320 -0.880891\n",
       "2010-01-01 11:07:00   887.09  0.229200 -0.973379\n",
       "2010-01-01 12:07:00    702.6 -0.030539 -0.999534\n",
       "2010-01-01 13:07:00   472.43 -0.288196 -0.957571\n",
       "2010-01-01 14:07:00   208.97 -0.526214 -0.850352\n",
       "2010-01-01 15:07:00        0 -0.728371 -0.685183\n",
       "2010-01-01 16:07:00        0 -0.880891 -0.473320\n",
       "2010-01-01 17:07:00        0 -0.973379 -0.229200\n",
       "2010-01-01 18:07:00        0 -0.999534  0.030539\n",
       "2010-01-01 19:07:00        0 -0.957571  0.288196"
      ]
     },
     "execution_count": 6,
     "metadata": {},
     "output_type": "execute_result"
    }
   ],
   "source": [
    "df = df.drop([\"Seconds\"], axis = 1)\n",
    "df.head(20)"
   ]
  },
  {
   "cell_type": "code",
   "execution_count": 7,
   "id": "e031791d",
   "metadata": {},
   "outputs": [
    {
     "name": "stdout",
     "output_type": "stream",
     "text": [
      "                        G(i)   day sin   day cos\n",
      "time                                            \n",
      "2010-01-01 00:07:00        0  0.030539  0.999534\n",
      "2010-01-01 01:07:00        0  0.288196  0.957571\n",
      "2010-01-01 02:07:00        0  0.526214  0.850352\n",
      "2010-01-01 03:07:00        0  0.728371  0.685183\n",
      "2010-01-01 04:07:00    91.98  0.880891  0.473320\n",
      "2010-01-01 05:07:00   432.28  0.973379  0.229200\n",
      "2010-01-01 06:07:00   681.34  0.999534 -0.030539\n",
      "2010-01-01 07:07:00   867.69  0.957571 -0.288196\n",
      "2010-01-01 08:07:00   987.62  0.850352 -0.526214\n",
      "2010-01-01 09:07:00  1034.38  0.685183 -0.728371\n",
      "G(i)        object\n",
      "day sin    float64\n",
      "day cos    float64\n",
      "dtype: object\n"
     ]
    }
   ],
   "source": [
    "df = df[:96431:]\n",
    "df_multi = df.iloc[:,0:5] # removing the time column \n",
    "df.tail(30)\n",
    "print(df_multi.head(10))\n",
    "print(df_multi.dtypes)\n",
    "# y = [x for x in df['Int'] if x == 0.0]\n",
    "# print(y)b\n",
    "# type(df_multi)\n"
   ]
  },
  {
   "cell_type": "code",
   "execution_count": 8,
   "id": "d0e5f1b4-1616-49ea-99c4-e2be20b9a56f",
   "metadata": {},
   "outputs": [
    {
     "name": "stdout",
     "output_type": "stream",
     "text": [
      "[<class 'float'>]\n"
     ]
    }
   ],
   "source": [
    "\n",
    "df_multi['G(i)'] = pd.to_numeric(df_multi['G(i)'], errors='coerce')\n",
    "unique_types = df_multi['G(i)'].apply(type).unique()\n",
    "\n",
    "print(unique_types)"
   ]
  },
  {
   "cell_type": "code",
   "execution_count": 9,
   "id": "2773ca88-86dc-441c-be2d-202967cc2462",
   "metadata": {},
   "outputs": [],
   "source": [
    "\n",
    "df_scaled = df_multi.to_numpy()\n"
   ]
  },
  {
   "cell_type": "code",
   "execution_count": 10,
   "id": "5bdc65e8",
   "metadata": {},
   "outputs": [
    {
     "name": "stdout",
     "output_type": "stream",
     "text": [
      "[[0.00000000e+00 3.05385132e-02 9.99533591e-01]\n",
      " [0.00000000e+00 2.88196268e-01 9.57571361e-01]\n",
      " [0.00000000e+00 5.26213924e-01 8.50352225e-01]\n",
      " [0.00000000e+00 7.28370970e-01 6.85182990e-01]\n",
      " [9.19800000e+01 8.80890738e-01 4.73319667e-01]]\n",
      "[4.32280000e+02 9.73379258e-01 2.29200391e-01]\n"
     ]
    }
   ],
   "source": [
    "\n",
    "print(df_scaled[0:5,:]) # this it the input\n",
    "print(df_scaled[5,:]) # this is the output"
   ]
  },
  {
   "cell_type": "code",
   "execution_count": 11,
   "id": "3de6a076",
   "metadata": {},
   "outputs": [],
   "source": [
    "def df_to_X_y(df_as_np, window_size=5):\n",
    "#   df_as_np = df.to_numpy()\n",
    "  X = []\n",
    "  y = []\n",
    "  for i in range(len(df_as_np)-window_size):\n",
    "    row = [a for a in df_as_np[i:i+window_size,:]]\n",
    "    X.append(row)\n",
    "    label = df_as_np[i+window_size,0]\n",
    "    y.append(label)\n",
    "  return np.array(X), np.array(y)"
   ]
  },
  {
   "cell_type": "code",
   "execution_count": 12,
   "id": "0ea1be1c",
   "metadata": {},
   "outputs": [
    {
     "name": "stdout",
     "output_type": "stream",
     "text": [
      "[[0.00000000e+00 2.88196268e-01 9.57571361e-01]\n",
      " [0.00000000e+00 5.26213924e-01 8.50352225e-01]\n",
      " [0.00000000e+00 7.28370970e-01 6.85182990e-01]\n",
      " [9.19800000e+01 8.80890738e-01 4.73319667e-01]\n",
      " [4.32280000e+02 9.73379258e-01 2.29200391e-01]]\n",
      "slfejlksdjlfkjdslkjfjlk\n",
      "432.28\n"
     ]
    },
    {
     "data": {
      "text/plain": [
       "((96426, 5, 3), (96426,))"
      ]
     },
     "execution_count": 12,
     "metadata": {},
     "output_type": "execute_result"
    }
   ],
   "source": [
    "WINDOW_SIZE = 5\n",
    "X1, y1 = df_to_X_y(df_scaled, WINDOW_SIZE)\n",
    "print(X1[1])\n",
    "print(\"slfejlksdjlfkjdslkjfjlk\")\n",
    "print(y1[0])\n",
    "X1.shape, y1.shape"
   ]
  },
  {
   "cell_type": "code",
   "execution_count": 13,
   "id": "8d26efb8",
   "metadata": {},
   "outputs": [
    {
     "data": {
      "text/plain": [
       "((61367, 5, 3), (61367,), (8760, 5, 3), (8760,), (26298, 5, 3), (26298,))"
      ]
     },
     "execution_count": 13,
     "metadata": {},
     "output_type": "execute_result"
    }
   ],
   "source": [
    "X_train1, y_train1 = X1[:61367], y1[:61367]\n",
    "X_val1, y_val1 = X1[61367:70127], y1[61367:70127] # 1 year for validation [61,367 , 70127]\n",
    "X_test1, y_test1 = X1[70128:], y1[70128:] #  1 year testing [70,128 , 78887]\n",
    "X_train1.shape, y_train1.shape, X_val1.shape, y_val1.shape, X_test1.shape, y_test1.shape\n"
   ]
  },
  {
   "cell_type": "code",
   "execution_count": 14,
   "id": "3afa5f1f-9502-4cf0-81e0-40492052e5f9",
   "metadata": {
    "scrolled": true
   },
   "outputs": [
    {
     "data": {
      "text/plain": [
       "array([[  0.  ,   0.  ,   0.  ,   0.  ,  91.98],\n",
       "       [  0.  ,   0.  ,   0.  ,  91.98, 432.28],\n",
       "       [  0.  ,   0.  ,  91.98, 432.28, 681.34],\n",
       "       ...,\n",
       "       [  0.  ,   0.  ,   0.  ,   0.  ,   0.  ],\n",
       "       [  0.  ,   0.  ,   0.  ,   0.  ,   0.  ],\n",
       "       [  0.  ,   0.  ,   0.  ,   0.  ,   0.  ]])"
      ]
     },
     "execution_count": 14,
     "metadata": {},
     "output_type": "execute_result"
    }
   ],
   "source": [
    "X_train1[:,:,0]"
   ]
  },
  {
   "cell_type": "code",
   "execution_count": 15,
   "id": "f7abb9be-a8ed-44b6-8028-ce5330c3821a",
   "metadata": {
    "scrolled": true
   },
   "outputs": [
    {
     "name": "stdout",
     "output_type": "stream",
     "text": [
      "268.65040705916863\n"
     ]
    },
    {
     "data": {
      "text/plain": [
       "367.6635387737029"
      ]
     },
     "execution_count": 15,
     "metadata": {},
     "output_type": "execute_result"
    }
   ],
   "source": [
    "print(np.mean(X_train1[:,:,0]))\n",
    "np.std((X_train1[:,:,0]))\n",
    "#  91.98, => -0.48\n",
    "# 432.28 =>0.44"
   ]
  },
  {
   "cell_type": "code",
   "execution_count": 16,
   "id": "04baa602-ed11-4259-a4c2-27a82f630f6a",
   "metadata": {},
   "outputs": [],
   "source": [
    "g_training_mean = np.mean( X_train1[ : ,: ,0])\n",
    "g_training_std = np.std( X_train1[ : ,: ,0])\n",
    "def preprocess(X):\n",
    "    X[:,:,0] = (X[:,:,0] - g_training_mean)/ g_training_std\n",
    "    return X\n"
   ]
  },
  {
   "cell_type": "code",
   "execution_count": 17,
   "id": "19a73e61-bb83-43b8-aea8-4b3bc219b451",
   "metadata": {},
   "outputs": [
    {
     "data": {
      "text/plain": [
       "array([[[-0.73069635,  0.03053851,  0.99953359],\n",
       "        [-0.73069635,  0.28819627,  0.95757136],\n",
       "        [-0.73069635,  0.52621392,  0.85035222],\n",
       "        [-0.73069635,  0.72837097,  0.68518299],\n",
       "        [-0.65813001,  0.88089074,  0.47331967]],\n",
       "\n",
       "       [[-0.73069635,  0.28819627,  0.95757136],\n",
       "        [-0.73069635,  0.52621392,  0.85035222],\n",
       "        [-0.73069635,  0.72837097,  0.68518299],\n",
       "        [-0.65813001,  0.88089074,  0.47331967],\n",
       "        [ 0.33941248,  0.97337926,  0.22920039]],\n",
       "\n",
       "       [[-0.73069635,  0.52621392,  0.85035222],\n",
       "        [-0.73069635,  0.72837097,  0.68518299],\n",
       "        [-0.65813001,  0.88089074,  0.47331967],\n",
       "        [ 0.33941248,  0.97337926,  0.22920039],\n",
       "        [ 1.08022567,  0.99953359, -0.03053851]],\n",
       "\n",
       "       ...,\n",
       "\n",
       "       [[-0.73069635, -0.72837097, -0.68518299],\n",
       "        [-0.73069635, -0.88089074, -0.47331967],\n",
       "        [-0.73069635, -0.97337926, -0.22920039],\n",
       "        [-0.73069635, -0.99953359,  0.03053851],\n",
       "        [-0.73069635, -0.95757136,  0.28819627]],\n",
       "\n",
       "       [[-0.73069635, -0.88089074, -0.47331967],\n",
       "        [-0.73069635, -0.97337926, -0.22920039],\n",
       "        [-0.73069635, -0.99953359,  0.03053851],\n",
       "        [-0.73069635, -0.95757136,  0.28819627],\n",
       "        [-0.73069635, -0.85035222,  0.52621392]],\n",
       "\n",
       "       [[-0.73069635, -0.97337926, -0.22920039],\n",
       "        [-0.73069635, -0.99953359,  0.03053851],\n",
       "        [-0.73069635, -0.95757136,  0.28819627],\n",
       "        [-0.73069635, -0.85035222,  0.52621392],\n",
       "        [-0.73069635, -0.68518299,  0.72837097]]])"
      ]
     },
     "execution_count": 17,
     "metadata": {},
     "output_type": "execute_result"
    }
   ],
   "source": [
    "preprocess(X_train1)\n",
    "preprocess(X_val1)\n",
    "preprocess(X_test1)\n"
   ]
  },
  {
   "cell_type": "code",
   "execution_count": 18,
   "id": "890206a4",
   "metadata": {
    "scrolled": true
   },
   "outputs": [
    {
     "name": "stdout",
     "output_type": "stream",
     "text": [
      "Model: \"sequential\"\n",
      "_________________________________________________________________\n",
      " Layer (type)                Output Shape              Param #   \n",
      "=================================================================\n",
      " lstm (LSTM)                 (None, 64)                17408     \n",
      "                                                                 \n",
      " dense (Dense)               (None, 8)                 520       \n",
      "                                                                 \n",
      " dense_1 (Dense)             (None, 1)                 9         \n",
      "                                                                 \n",
      "=================================================================\n",
      "Total params: 17,937\n",
      "Trainable params: 17,937\n",
      "Non-trainable params: 0\n",
      "_________________________________________________________________\n"
     ]
    }
   ],
   "source": [
    "from tensorflow.keras.models import Sequential\n",
    "from tensorflow.keras.layers import *\n",
    "from tensorflow.keras.callbacks import ModelCheckpoint\n",
    "from tensorflow.keras.losses import MeanSquaredError\n",
    "from tensorflow.keras.metrics import RootMeanSquaredError\n",
    "from tensorflow.keras.optimizers import Adam\n",
    "\n",
    "model1 = Sequential()\n",
    "model1.add(InputLayer((5, 3)))\n",
    "model1.add(LSTM(64))\n",
    "model1.add(Dense(8, 'relu'))\n",
    "model1.add(Dense(1, 'linear'))\n",
    "\n",
    "model1.summary()"
   ]
  },
  {
   "cell_type": "code",
   "execution_count": 19,
   "id": "19972ed9",
   "metadata": {},
   "outputs": [],
   "source": [
    "from tensorflow.keras.callbacks import EarlyStopping"
   ]
  },
  {
   "cell_type": "code",
   "execution_count": 20,
   "id": "7addce40",
   "metadata": {},
   "outputs": [],
   "source": [
    "early_stopping = EarlyStopping(monitor='val_loss', min_delta=0.01, patience=10, verbose=1, mode='min')"
   ]
  },
  {
   "cell_type": "code",
   "execution_count": 21,
   "id": "d8219317",
   "metadata": {},
   "outputs": [],
   "source": [
    "cp1 = ModelCheckpoint('model_G(I)_TIME/', save_best_only=True)\n",
    "# metrics , learning rate, loss  can be changed \n",
    "model1.compile(loss=MeanSquaredError(), optimizer=Adam(learning_rate=0.001), metrics=[RootMeanSquaredError()])"
   ]
  },
  {
   "cell_type": "code",
   "execution_count": 22,
   "id": "dc237de2",
   "metadata": {
    "scrolled": true
   },
   "outputs": [
    {
     "name": "stdout",
     "output_type": "stream",
     "text": [
      "Epoch 1/50\n",
      "1912/1918 [============================>.] - ETA: 0s - loss: 64630.2734 - root_mean_squared_error: 254.2249"
     ]
    },
    {
     "name": "stderr",
     "output_type": "stream",
     "text": [
      "WARNING:absl:Found untraced functions such as lstm_cell_layer_call_fn, lstm_cell_layer_call_and_return_conditional_losses while saving (showing 2 of 2). These functions will not be directly callable after loading.\n"
     ]
    },
    {
     "name": "stdout",
     "output_type": "stream",
     "text": [
      "INFO:tensorflow:Assets written to: model_G(I)_TIME\\assets\n"
     ]
    },
    {
     "name": "stderr",
     "output_type": "stream",
     "text": [
      "INFO:tensorflow:Assets written to: model_G(I)_TIME\\assets\n"
     ]
    },
    {
     "name": "stdout",
     "output_type": "stream",
     "text": [
      "1918/1918 [==============================] - 41s 19ms/step - loss: 64477.2383 - root_mean_squared_error: 253.9237 - val_loss: 12663.2168 - val_root_mean_squared_error: 112.5310\n",
      "Epoch 2/50\n",
      "1914/1918 [============================>.] - ETA: 0s - loss: 9399.0879 - root_mean_squared_error: 96.9489"
     ]
    },
    {
     "name": "stderr",
     "output_type": "stream",
     "text": [
      "WARNING:absl:Found untraced functions such as lstm_cell_layer_call_fn, lstm_cell_layer_call_and_return_conditional_losses while saving (showing 2 of 2). These functions will not be directly callable after loading.\n"
     ]
    },
    {
     "name": "stdout",
     "output_type": "stream",
     "text": [
      "INFO:tensorflow:Assets written to: model_G(I)_TIME\\assets\n"
     ]
    },
    {
     "name": "stderr",
     "output_type": "stream",
     "text": [
      "INFO:tensorflow:Assets written to: model_G(I)_TIME\\assets\n"
     ]
    },
    {
     "name": "stdout",
     "output_type": "stream",
     "text": [
      "1918/1918 [==============================] - 34s 18ms/step - loss: 9408.5947 - root_mean_squared_error: 96.9979 - val_loss: 8851.8398 - val_root_mean_squared_error: 94.0842\n",
      "Epoch 3/50\n",
      "1918/1918 [==============================] - ETA: 0s - loss: 7496.4390 - root_mean_squared_error: 86.5820"
     ]
    },
    {
     "name": "stderr",
     "output_type": "stream",
     "text": [
      "WARNING:absl:Found untraced functions such as lstm_cell_layer_call_fn, lstm_cell_layer_call_and_return_conditional_losses while saving (showing 2 of 2). These functions will not be directly callable after loading.\n"
     ]
    },
    {
     "name": "stdout",
     "output_type": "stream",
     "text": [
      "INFO:tensorflow:Assets written to: model_G(I)_TIME\\assets\n"
     ]
    },
    {
     "name": "stderr",
     "output_type": "stream",
     "text": [
      "INFO:tensorflow:Assets written to: model_G(I)_TIME\\assets\n"
     ]
    },
    {
     "name": "stdout",
     "output_type": "stream",
     "text": [
      "1918/1918 [==============================] - 32s 17ms/step - loss: 7496.4390 - root_mean_squared_error: 86.5820 - val_loss: 7944.1670 - val_root_mean_squared_error: 89.1301\n",
      "Epoch 4/50\n",
      "1913/1918 [============================>.] - ETA: 0s - loss: 6988.2441 - root_mean_squared_error: 83.5957"
     ]
    },
    {
     "name": "stderr",
     "output_type": "stream",
     "text": [
      "WARNING:absl:Found untraced functions such as lstm_cell_layer_call_fn, lstm_cell_layer_call_and_return_conditional_losses while saving (showing 2 of 2). These functions will not be directly callable after loading.\n"
     ]
    },
    {
     "name": "stdout",
     "output_type": "stream",
     "text": [
      "INFO:tensorflow:Assets written to: model_G(I)_TIME\\assets\n"
     ]
    },
    {
     "name": "stderr",
     "output_type": "stream",
     "text": [
      "INFO:tensorflow:Assets written to: model_G(I)_TIME\\assets\n"
     ]
    },
    {
     "name": "stdout",
     "output_type": "stream",
     "text": [
      "1918/1918 [==============================] - 32s 17ms/step - loss: 6981.5874 - root_mean_squared_error: 83.5559 - val_loss: 7836.7925 - val_root_mean_squared_error: 88.5257\n",
      "Epoch 5/50\n",
      "1918/1918 [==============================] - 16s 8ms/step - loss: 6812.5103 - root_mean_squared_error: 82.5379 - val_loss: 8316.8740 - val_root_mean_squared_error: 91.1969\n",
      "Epoch 6/50\n",
      "1911/1918 [============================>.] - ETA: 0s - loss: 6730.0952 - root_mean_squared_error: 82.0372"
     ]
    },
    {
     "name": "stderr",
     "output_type": "stream",
     "text": [
      "WARNING:absl:Found untraced functions such as lstm_cell_layer_call_fn, lstm_cell_layer_call_and_return_conditional_losses while saving (showing 2 of 2). These functions will not be directly callable after loading.\n"
     ]
    },
    {
     "name": "stdout",
     "output_type": "stream",
     "text": [
      "INFO:tensorflow:Assets written to: model_G(I)_TIME\\assets\n"
     ]
    },
    {
     "name": "stderr",
     "output_type": "stream",
     "text": [
      "INFO:tensorflow:Assets written to: model_G(I)_TIME\\assets\n"
     ]
    },
    {
     "name": "stdout",
     "output_type": "stream",
     "text": [
      "1918/1918 [==============================] - 35s 18ms/step - loss: 6732.9106 - root_mean_squared_error: 82.0543 - val_loss: 7553.5015 - val_root_mean_squared_error: 86.9109\n",
      "Epoch 7/50\n",
      "1918/1918 [==============================] - 14s 8ms/step - loss: 6680.5078 - root_mean_squared_error: 81.7344 - val_loss: 7720.9277 - val_root_mean_squared_error: 87.8688\n",
      "Epoch 8/50\n",
      "1915/1918 [============================>.] - ETA: 0s - loss: 6656.1782 - root_mean_squared_error: 81.5854"
     ]
    },
    {
     "name": "stderr",
     "output_type": "stream",
     "text": [
      "WARNING:absl:Found untraced functions such as lstm_cell_layer_call_fn, lstm_cell_layer_call_and_return_conditional_losses while saving (showing 2 of 2). These functions will not be directly callable after loading.\n"
     ]
    },
    {
     "name": "stdout",
     "output_type": "stream",
     "text": [
      "INFO:tensorflow:Assets written to: model_G(I)_TIME\\assets\n"
     ]
    },
    {
     "name": "stderr",
     "output_type": "stream",
     "text": [
      "INFO:tensorflow:Assets written to: model_G(I)_TIME\\assets\n"
     ]
    },
    {
     "name": "stdout",
     "output_type": "stream",
     "text": [
      "1918/1918 [==============================] - 35s 18ms/step - loss: 6656.6958 - root_mean_squared_error: 81.5886 - val_loss: 7531.1167 - val_root_mean_squared_error: 86.7820\n",
      "Epoch 9/50\n",
      "1918/1918 [==============================] - 17s 9ms/step - loss: 6629.6611 - root_mean_squared_error: 81.4227 - val_loss: 7543.9346 - val_root_mean_squared_error: 86.8558\n",
      "Epoch 10/50\n",
      "1917/1918 [============================>.] - ETA: 0s - loss: 6610.7905 - root_mean_squared_error: 81.3068"
     ]
    },
    {
     "name": "stderr",
     "output_type": "stream",
     "text": [
      "WARNING:absl:Found untraced functions such as lstm_cell_layer_call_fn, lstm_cell_layer_call_and_return_conditional_losses while saving (showing 2 of 2). These functions will not be directly callable after loading.\n"
     ]
    },
    {
     "name": "stdout",
     "output_type": "stream",
     "text": [
      "INFO:tensorflow:Assets written to: model_G(I)_TIME\\assets\n"
     ]
    },
    {
     "name": "stderr",
     "output_type": "stream",
     "text": [
      "INFO:tensorflow:Assets written to: model_G(I)_TIME\\assets\n"
     ]
    },
    {
     "name": "stdout",
     "output_type": "stream",
     "text": [
      "1918/1918 [==============================] - 38s 20ms/step - loss: 6609.6709 - root_mean_squared_error: 81.2999 - val_loss: 7511.2861 - val_root_mean_squared_error: 86.6677\n",
      "Epoch 11/50\n",
      "1914/1918 [============================>.] - ETA: 0s - loss: 6567.9131 - root_mean_squared_error: 81.0427"
     ]
    },
    {
     "name": "stderr",
     "output_type": "stream",
     "text": [
      "WARNING:absl:Found untraced functions such as lstm_cell_layer_call_fn, lstm_cell_layer_call_and_return_conditional_losses while saving (showing 2 of 2). These functions will not be directly callable after loading.\n"
     ]
    },
    {
     "name": "stdout",
     "output_type": "stream",
     "text": [
      "INFO:tensorflow:Assets written to: model_G(I)_TIME\\assets\n"
     ]
    },
    {
     "name": "stderr",
     "output_type": "stream",
     "text": [
      "INFO:tensorflow:Assets written to: model_G(I)_TIME\\assets\n"
     ]
    },
    {
     "name": "stdout",
     "output_type": "stream",
     "text": [
      "1918/1918 [==============================] - 39s 20ms/step - loss: 6568.9336 - root_mean_squared_error: 81.0490 - val_loss: 7485.2866 - val_root_mean_squared_error: 86.5175\n",
      "Epoch 12/50\n",
      "1918/1918 [==============================] - 17s 9ms/step - loss: 6564.1738 - root_mean_squared_error: 81.0196 - val_loss: 7513.3198 - val_root_mean_squared_error: 86.6794\n",
      "Epoch 13/50\n",
      "1918/1918 [==============================] - 18s 9ms/step - loss: 6534.4951 - root_mean_squared_error: 80.8362 - val_loss: 7490.1675 - val_root_mean_squared_error: 86.5458\n",
      "Epoch 14/50\n",
      "1917/1918 [============================>.] - ETA: 0s - loss: 6529.5630 - root_mean_squared_error: 80.8057"
     ]
    },
    {
     "name": "stderr",
     "output_type": "stream",
     "text": [
      "WARNING:absl:Found untraced functions such as lstm_cell_layer_call_fn, lstm_cell_layer_call_and_return_conditional_losses while saving (showing 2 of 2). These functions will not be directly callable after loading.\n"
     ]
    },
    {
     "name": "stdout",
     "output_type": "stream",
     "text": [
      "INFO:tensorflow:Assets written to: model_G(I)_TIME\\assets\n"
     ]
    },
    {
     "name": "stderr",
     "output_type": "stream",
     "text": [
      "INFO:tensorflow:Assets written to: model_G(I)_TIME\\assets\n"
     ]
    },
    {
     "name": "stdout",
     "output_type": "stream",
     "text": [
      "1918/1918 [==============================] - 34s 18ms/step - loss: 6527.3457 - root_mean_squared_error: 80.7920 - val_loss: 7477.2095 - val_root_mean_squared_error: 86.4709\n",
      "Epoch 15/50\n",
      "1918/1918 [==============================] - 19s 10ms/step - loss: 6516.5830 - root_mean_squared_error: 80.7254 - val_loss: 7551.8638 - val_root_mean_squared_error: 86.9015\n",
      "Epoch 16/50\n",
      "1916/1918 [============================>.] - ETA: 0s - loss: 6504.1421 - root_mean_squared_error: 80.6483"
     ]
    },
    {
     "name": "stderr",
     "output_type": "stream",
     "text": [
      "WARNING:absl:Found untraced functions such as lstm_cell_layer_call_fn, lstm_cell_layer_call_and_return_conditional_losses while saving (showing 2 of 2). These functions will not be directly callable after loading.\n"
     ]
    },
    {
     "name": "stdout",
     "output_type": "stream",
     "text": [
      "INFO:tensorflow:Assets written to: model_G(I)_TIME\\assets\n"
     ]
    },
    {
     "name": "stderr",
     "output_type": "stream",
     "text": [
      "INFO:tensorflow:Assets written to: model_G(I)_TIME\\assets\n"
     ]
    },
    {
     "name": "stdout",
     "output_type": "stream",
     "text": [
      "1918/1918 [==============================] - 39s 20ms/step - loss: 6517.9810 - root_mean_squared_error: 80.7340 - val_loss: 7415.8091 - val_root_mean_squared_error: 86.1151\n",
      "Epoch 17/50\n",
      "1918/1918 [==============================] - 17s 9ms/step - loss: 6495.8384 - root_mean_squared_error: 80.5968 - val_loss: 7449.7300 - val_root_mean_squared_error: 86.3118\n",
      "Epoch 18/50\n",
      "1918/1918 [==============================] - 15s 8ms/step - loss: 6475.9365 - root_mean_squared_error: 80.4732 - val_loss: 7421.9854 - val_root_mean_squared_error: 86.1509\n",
      "Epoch 19/50\n",
      "1918/1918 [==============================] - 15s 8ms/step - loss: 6470.1685 - root_mean_squared_error: 80.4374 - val_loss: 7485.9453 - val_root_mean_squared_error: 86.5214\n",
      "Epoch 20/50\n",
      "1918/1918 [==============================] - 17s 9ms/step - loss: 6462.4175 - root_mean_squared_error: 80.3892 - val_loss: 7487.1821 - val_root_mean_squared_error: 86.5285\n",
      "Epoch 21/50\n",
      "1918/1918 [==============================] - 17s 9ms/step - loss: 6444.8809 - root_mean_squared_error: 80.2800 - val_loss: 7438.6113 - val_root_mean_squared_error: 86.2474\n",
      "Epoch 22/50\n",
      "1918/1918 [==============================] - 17s 9ms/step - loss: 6441.1016 - root_mean_squared_error: 80.2565 - val_loss: 7448.9717 - val_root_mean_squared_error: 86.3074\n",
      "Epoch 23/50\n",
      "1914/1918 [============================>.] - ETA: 0s - loss: 6437.7065 - root_mean_squared_error: 80.2353"
     ]
    },
    {
     "name": "stderr",
     "output_type": "stream",
     "text": [
      "WARNING:absl:Found untraced functions such as lstm_cell_layer_call_fn, lstm_cell_layer_call_and_return_conditional_losses while saving (showing 2 of 2). These functions will not be directly callable after loading.\n"
     ]
    },
    {
     "name": "stdout",
     "output_type": "stream",
     "text": [
      "INFO:tensorflow:Assets written to: model_G(I)_TIME\\assets\n"
     ]
    },
    {
     "name": "stderr",
     "output_type": "stream",
     "text": [
      "INFO:tensorflow:Assets written to: model_G(I)_TIME\\assets\n"
     ]
    },
    {
     "name": "stdout",
     "output_type": "stream",
     "text": [
      "1918/1918 [==============================] - 42s 22ms/step - loss: 6439.3550 - root_mean_squared_error: 80.2456 - val_loss: 7406.4980 - val_root_mean_squared_error: 86.0610\n",
      "Epoch 24/50\n",
      "1916/1918 [============================>.] - ETA: 0s - loss: 6426.4287 - root_mean_squared_error: 80.1650"
     ]
    },
    {
     "name": "stderr",
     "output_type": "stream",
     "text": [
      "WARNING:absl:Found untraced functions such as lstm_cell_layer_call_fn, lstm_cell_layer_call_and_return_conditional_losses while saving (showing 2 of 2). These functions will not be directly callable after loading.\n"
     ]
    },
    {
     "name": "stdout",
     "output_type": "stream",
     "text": [
      "INFO:tensorflow:Assets written to: model_G(I)_TIME\\assets\n"
     ]
    },
    {
     "name": "stderr",
     "output_type": "stream",
     "text": [
      "INFO:tensorflow:Assets written to: model_G(I)_TIME\\assets\n"
     ]
    },
    {
     "name": "stdout",
     "output_type": "stream",
     "text": [
      "1918/1918 [==============================] - 52s 27ms/step - loss: 6423.4116 - root_mean_squared_error: 80.1462 - val_loss: 7345.2417 - val_root_mean_squared_error: 85.7044\n",
      "Epoch 25/50\n",
      "1918/1918 [==============================] - 26s 14ms/step - loss: 6412.6948 - root_mean_squared_error: 80.0793 - val_loss: 7374.3853 - val_root_mean_squared_error: 85.8742\n",
      "Epoch 26/50\n",
      "1918/1918 [==============================] - 27s 14ms/step - loss: 6410.4194 - root_mean_squared_error: 80.0651 - val_loss: 7423.3154 - val_root_mean_squared_error: 86.1587\n",
      "Epoch 27/50\n",
      "1918/1918 [==============================] - 25s 13ms/step - loss: 6407.9512 - root_mean_squared_error: 80.0497 - val_loss: 7372.6182 - val_root_mean_squared_error: 85.8640\n",
      "Epoch 28/50\n",
      "1917/1918 [============================>.] - ETA: 0s - loss: 6394.2612 - root_mean_squared_error: 79.9641"
     ]
    },
    {
     "name": "stderr",
     "output_type": "stream",
     "text": [
      "WARNING:absl:Found untraced functions such as lstm_cell_layer_call_fn, lstm_cell_layer_call_and_return_conditional_losses while saving (showing 2 of 2). These functions will not be directly callable after loading.\n"
     ]
    },
    {
     "name": "stdout",
     "output_type": "stream",
     "text": [
      "INFO:tensorflow:Assets written to: model_G(I)_TIME\\assets\n"
     ]
    },
    {
     "name": "stderr",
     "output_type": "stream",
     "text": [
      "INFO:tensorflow:Assets written to: model_G(I)_TIME\\assets\n"
     ]
    },
    {
     "name": "stdout",
     "output_type": "stream",
     "text": [
      "1918/1918 [==============================] - 39s 21ms/step - loss: 6393.9058 - root_mean_squared_error: 79.9619 - val_loss: 7325.1733 - val_root_mean_squared_error: 85.5872\n",
      "Epoch 29/50\n",
      "1915/1918 [============================>.] - ETA: 0s - loss: 6376.8442 - root_mean_squared_error: 79.8551"
     ]
    },
    {
     "name": "stderr",
     "output_type": "stream",
     "text": [
      "WARNING:absl:Found untraced functions such as lstm_cell_layer_call_fn, lstm_cell_layer_call_and_return_conditional_losses while saving (showing 2 of 2). These functions will not be directly callable after loading.\n"
     ]
    },
    {
     "name": "stdout",
     "output_type": "stream",
     "text": [
      "INFO:tensorflow:Assets written to: model_G(I)_TIME\\assets\n"
     ]
    },
    {
     "name": "stderr",
     "output_type": "stream",
     "text": [
      "INFO:tensorflow:Assets written to: model_G(I)_TIME\\assets\n"
     ]
    },
    {
     "name": "stdout",
     "output_type": "stream",
     "text": [
      "1918/1918 [==============================] - 39s 20ms/step - loss: 6373.8848 - root_mean_squared_error: 79.8366 - val_loss: 7319.2148 - val_root_mean_squared_error: 85.5524\n",
      "Epoch 30/50\n",
      "1918/1918 [==============================] - 19s 10ms/step - loss: 6375.4199 - root_mean_squared_error: 79.8462 - val_loss: 7413.2061 - val_root_mean_squared_error: 86.1000\n",
      "Epoch 31/50\n",
      "1918/1918 [==============================] - 19s 10ms/step - loss: 6363.5205 - root_mean_squared_error: 79.7717 - val_loss: 7336.7324 - val_root_mean_squared_error: 85.6547\n",
      "Epoch 32/50\n",
      "1912/1918 [============================>.] - ETA: 0s - loss: 6371.2383 - root_mean_squared_error: 79.8200"
     ]
    },
    {
     "name": "stderr",
     "output_type": "stream",
     "text": [
      "WARNING:absl:Found untraced functions such as lstm_cell_layer_call_fn, lstm_cell_layer_call_and_return_conditional_losses while saving (showing 2 of 2). These functions will not be directly callable after loading.\n"
     ]
    },
    {
     "name": "stdout",
     "output_type": "stream",
     "text": [
      "INFO:tensorflow:Assets written to: model_G(I)_TIME\\assets\n"
     ]
    },
    {
     "name": "stderr",
     "output_type": "stream",
     "text": [
      "INFO:tensorflow:Assets written to: model_G(I)_TIME\\assets\n"
     ]
    },
    {
     "name": "stdout",
     "output_type": "stream",
     "text": [
      "1918/1918 [==============================] - 44s 23ms/step - loss: 6368.9268 - root_mean_squared_error: 79.8056 - val_loss: 7304.9360 - val_root_mean_squared_error: 85.4689\n",
      "Epoch 33/50\n",
      "1918/1918 [==============================] - 22s 11ms/step - loss: 6357.2720 - root_mean_squared_error: 79.7325 - val_loss: 7375.7998 - val_root_mean_squared_error: 85.8825\n",
      "Epoch 34/50\n",
      "1918/1918 [==============================] - 25s 13ms/step - loss: 6355.7627 - root_mean_squared_error: 79.7230 - val_loss: 7313.1440 - val_root_mean_squared_error: 85.5169\n",
      "Epoch 35/50\n",
      "1918/1918 [==============================] - 23s 12ms/step - loss: 6333.4155 - root_mean_squared_error: 79.5828 - val_loss: 7381.7153 - val_root_mean_squared_error: 85.9169\n",
      "Epoch 36/50\n",
      "1918/1918 [==============================] - 23s 12ms/step - loss: 6338.2949 - root_mean_squared_error: 79.6134 - val_loss: 7433.4092 - val_root_mean_squared_error: 86.2172\n",
      "Epoch 37/50\n",
      "1918/1918 [==============================] - 22s 11ms/step - loss: 6325.8203 - root_mean_squared_error: 79.5350 - val_loss: 7349.7046 - val_root_mean_squared_error: 85.7304\n",
      "Epoch 38/50\n",
      "1918/1918 [==============================] - 22s 11ms/step - loss: 6313.7524 - root_mean_squared_error: 79.4591 - val_loss: 7311.7373 - val_root_mean_squared_error: 85.5087\n",
      "Epoch 39/50\n",
      "1918/1918 [==============================] - 22s 11ms/step - loss: 6322.6924 - root_mean_squared_error: 79.5154 - val_loss: 7342.8188 - val_root_mean_squared_error: 85.6902\n",
      "Epoch 40/50\n",
      "1915/1918 [============================>.] - ETA: 0s - loss: 6327.4209 - root_mean_squared_error: 79.5451"
     ]
    },
    {
     "name": "stderr",
     "output_type": "stream",
     "text": [
      "WARNING:absl:Found untraced functions such as lstm_cell_layer_call_fn, lstm_cell_layer_call_and_return_conditional_losses while saving (showing 2 of 2). These functions will not be directly callable after loading.\n"
     ]
    },
    {
     "name": "stdout",
     "output_type": "stream",
     "text": [
      "INFO:tensorflow:Assets written to: model_G(I)_TIME\\assets\n"
     ]
    },
    {
     "name": "stderr",
     "output_type": "stream",
     "text": [
      "INFO:tensorflow:Assets written to: model_G(I)_TIME\\assets\n"
     ]
    },
    {
     "name": "stdout",
     "output_type": "stream",
     "text": [
      "1918/1918 [==============================] - 41s 21ms/step - loss: 6321.2783 - root_mean_squared_error: 79.5065 - val_loss: 7297.4648 - val_root_mean_squared_error: 85.4252\n",
      "Epoch 41/50\n",
      "1918/1918 [==============================] - 19s 10ms/step - loss: 6301.1030 - root_mean_squared_error: 79.3795 - val_loss: 7315.5215 - val_root_mean_squared_error: 85.5308\n",
      "Epoch 42/50\n",
      "1918/1918 [==============================] - 19s 10ms/step - loss: 6288.0801 - root_mean_squared_error: 79.2974 - val_loss: 7372.9463 - val_root_mean_squared_error: 85.8659\n",
      "Epoch 43/50\n",
      "1918/1918 [==============================] - 20s 11ms/step - loss: 6291.0938 - root_mean_squared_error: 79.3164 - val_loss: 7341.7104 - val_root_mean_squared_error: 85.6838\n",
      "Epoch 44/50\n",
      "1918/1918 [==============================] - 20s 10ms/step - loss: 6287.7441 - root_mean_squared_error: 79.2953 - val_loss: 7331.2412 - val_root_mean_squared_error: 85.6227\n",
      "Epoch 45/50\n",
      "1918/1918 [==============================] - 21s 11ms/step - loss: 6272.0098 - root_mean_squared_error: 79.1960 - val_loss: 7310.4194 - val_root_mean_squared_error: 85.5010\n",
      "Epoch 46/50\n",
      "1918/1918 [==============================] - 22s 11ms/step - loss: 6272.0361 - root_mean_squared_error: 79.1962 - val_loss: 7302.4565 - val_root_mean_squared_error: 85.4544\n",
      "Epoch 47/50\n",
      "1918/1918 [==============================] - 19s 10ms/step - loss: 6254.7705 - root_mean_squared_error: 79.0871 - val_loss: 7318.6147 - val_root_mean_squared_error: 85.5489\n",
      "Epoch 48/50\n",
      "1918/1918 [==============================] - 19s 10ms/step - loss: 6267.3159 - root_mean_squared_error: 79.1664 - val_loss: 7346.8906 - val_root_mean_squared_error: 85.7140\n",
      "Epoch 49/50\n",
      "1918/1918 [==============================] - 18s 10ms/step - loss: 6262.6382 - root_mean_squared_error: 79.1368 - val_loss: 7336.0376 - val_root_mean_squared_error: 85.6507\n",
      "Epoch 50/50\n",
      "1918/1918 [==============================] - 19s 10ms/step - loss: 6248.2314 - root_mean_squared_error: 79.0458 - val_loss: 7317.2197 - val_root_mean_squared_error: 85.5407\n",
      "Epoch 50: early stopping\n"
     ]
    },
    {
     "data": {
      "text/plain": [
       "<keras.callbacks.History at 0x2961d9b68b0>"
      ]
     },
     "execution_count": 22,
     "metadata": {},
     "output_type": "execute_result"
    }
   ],
   "source": [
    "model1.fit(X_train1, y_train1, validation_data=(X_val1, y_val1), epochs=50, callbacks=[cp1,early_stopping])"
   ]
  },
  {
   "cell_type": "code",
   "execution_count": 23,
   "id": "a454c7f1",
   "metadata": {},
   "outputs": [],
   "source": [
    "from tensorflow.keras.models import load_model\n",
    "model1 = load_model('model_G(I)_TIME/')"
   ]
  },
  {
   "cell_type": "code",
   "execution_count": 24,
   "id": "bdda30eb",
   "metadata": {},
   "outputs": [
    {
     "name": "stdout",
     "output_type": "stream",
     "text": [
      "1918/1918 [==============================] - 8s 4ms/step\n"
     ]
    },
    {
     "data": {
      "text/html": [
       "<div>\n",
       "<style scoped>\n",
       "    .dataframe tbody tr th:only-of-type {\n",
       "        vertical-align: middle;\n",
       "    }\n",
       "\n",
       "    .dataframe tbody tr th {\n",
       "        vertical-align: top;\n",
       "    }\n",
       "\n",
       "    .dataframe thead th {\n",
       "        text-align: right;\n",
       "    }\n",
       "</style>\n",
       "<table border=\"1\" class=\"dataframe\">\n",
       "  <thead>\n",
       "    <tr style=\"text-align: right;\">\n",
       "      <th></th>\n",
       "      <th>Train Predictions</th>\n",
       "      <th>Actuals</th>\n",
       "    </tr>\n",
       "  </thead>\n",
       "  <tbody>\n",
       "    <tr>\n",
       "      <th>0</th>\n",
       "      <td>340.261597</td>\n",
       "      <td>432.28</td>\n",
       "    </tr>\n",
       "    <tr>\n",
       "      <th>1</th>\n",
       "      <td>677.122498</td>\n",
       "      <td>681.34</td>\n",
       "    </tr>\n",
       "    <tr>\n",
       "      <th>2</th>\n",
       "      <td>865.806091</td>\n",
       "      <td>867.69</td>\n",
       "    </tr>\n",
       "    <tr>\n",
       "      <th>3</th>\n",
       "      <td>990.778320</td>\n",
       "      <td>987.62</td>\n",
       "    </tr>\n",
       "    <tr>\n",
       "      <th>4</th>\n",
       "      <td>1020.761902</td>\n",
       "      <td>1034.38</td>\n",
       "    </tr>\n",
       "    <tr>\n",
       "      <th>5</th>\n",
       "      <td>959.278198</td>\n",
       "      <td>998.94</td>\n",
       "    </tr>\n",
       "    <tr>\n",
       "      <th>6</th>\n",
       "      <td>852.735718</td>\n",
       "      <td>887.09</td>\n",
       "    </tr>\n",
       "    <tr>\n",
       "      <th>7</th>\n",
       "      <td>656.766296</td>\n",
       "      <td>702.60</td>\n",
       "    </tr>\n",
       "    <tr>\n",
       "      <th>8</th>\n",
       "      <td>437.702087</td>\n",
       "      <td>472.43</td>\n",
       "    </tr>\n",
       "    <tr>\n",
       "      <th>9</th>\n",
       "      <td>198.933197</td>\n",
       "      <td>208.97</td>\n",
       "    </tr>\n",
       "    <tr>\n",
       "      <th>10</th>\n",
       "      <td>5.781912</td>\n",
       "      <td>0.00</td>\n",
       "    </tr>\n",
       "    <tr>\n",
       "      <th>11</th>\n",
       "      <td>0.035489</td>\n",
       "      <td>0.00</td>\n",
       "    </tr>\n",
       "    <tr>\n",
       "      <th>12</th>\n",
       "      <td>-0.034711</td>\n",
       "      <td>0.00</td>\n",
       "    </tr>\n",
       "    <tr>\n",
       "      <th>13</th>\n",
       "      <td>-0.033658</td>\n",
       "      <td>0.00</td>\n",
       "    </tr>\n",
       "    <tr>\n",
       "      <th>14</th>\n",
       "      <td>0.026650</td>\n",
       "      <td>0.00</td>\n",
       "    </tr>\n",
       "    <tr>\n",
       "      <th>15</th>\n",
       "      <td>-0.028403</td>\n",
       "      <td>0.00</td>\n",
       "    </tr>\n",
       "    <tr>\n",
       "      <th>16</th>\n",
       "      <td>-0.040726</td>\n",
       "      <td>0.00</td>\n",
       "    </tr>\n",
       "    <tr>\n",
       "      <th>17</th>\n",
       "      <td>-0.045057</td>\n",
       "      <td>0.00</td>\n",
       "    </tr>\n",
       "    <tr>\n",
       "      <th>18</th>\n",
       "      <td>-0.041429</td>\n",
       "      <td>0.00</td>\n",
       "    </tr>\n",
       "    <tr>\n",
       "      <th>19</th>\n",
       "      <td>-0.030665</td>\n",
       "      <td>0.00</td>\n",
       "    </tr>\n",
       "    <tr>\n",
       "      <th>20</th>\n",
       "      <td>-0.021190</td>\n",
       "      <td>0.00</td>\n",
       "    </tr>\n",
       "    <tr>\n",
       "      <th>21</th>\n",
       "      <td>-0.041169</td>\n",
       "      <td>0.00</td>\n",
       "    </tr>\n",
       "    <tr>\n",
       "      <th>22</th>\n",
       "      <td>-0.008098</td>\n",
       "      <td>0.00</td>\n",
       "    </tr>\n",
       "    <tr>\n",
       "      <th>23</th>\n",
       "      <td>99.763573</td>\n",
       "      <td>17.78</td>\n",
       "    </tr>\n",
       "    <tr>\n",
       "      <th>24</th>\n",
       "      <td>254.390228</td>\n",
       "      <td>443.28</td>\n",
       "    </tr>\n",
       "    <tr>\n",
       "      <th>25</th>\n",
       "      <td>712.276245</td>\n",
       "      <td>642.75</td>\n",
       "    </tr>\n",
       "    <tr>\n",
       "      <th>26</th>\n",
       "      <td>827.824890</td>\n",
       "      <td>860.81</td>\n",
       "    </tr>\n",
       "    <tr>\n",
       "      <th>27</th>\n",
       "      <td>985.248718</td>\n",
       "      <td>973.48</td>\n",
       "    </tr>\n",
       "    <tr>\n",
       "      <th>28</th>\n",
       "      <td>1023.288940</td>\n",
       "      <td>987.11</td>\n",
       "    </tr>\n",
       "    <tr>\n",
       "      <th>29</th>\n",
       "      <td>875.063293</td>\n",
       "      <td>948.68</td>\n",
       "    </tr>\n",
       "  </tbody>\n",
       "</table>\n",
       "</div>"
      ],
      "text/plain": [
       "    Train Predictions  Actuals\n",
       "0          340.261597   432.28\n",
       "1          677.122498   681.34\n",
       "2          865.806091   867.69\n",
       "3          990.778320   987.62\n",
       "4         1020.761902  1034.38\n",
       "5          959.278198   998.94\n",
       "6          852.735718   887.09\n",
       "7          656.766296   702.60\n",
       "8          437.702087   472.43\n",
       "9          198.933197   208.97\n",
       "10           5.781912     0.00\n",
       "11           0.035489     0.00\n",
       "12          -0.034711     0.00\n",
       "13          -0.033658     0.00\n",
       "14           0.026650     0.00\n",
       "15          -0.028403     0.00\n",
       "16          -0.040726     0.00\n",
       "17          -0.045057     0.00\n",
       "18          -0.041429     0.00\n",
       "19          -0.030665     0.00\n",
       "20          -0.021190     0.00\n",
       "21          -0.041169     0.00\n",
       "22          -0.008098     0.00\n",
       "23          99.763573    17.78\n",
       "24         254.390228   443.28\n",
       "25         712.276245   642.75\n",
       "26         827.824890   860.81\n",
       "27         985.248718   973.48\n",
       "28        1023.288940   987.11\n",
       "29         875.063293   948.68"
      ]
     },
     "execution_count": 24,
     "metadata": {},
     "output_type": "execute_result"
    }
   ],
   "source": [
    "train_predictions = model1.predict(X_train1).flatten()\n",
    "train_results = pd.DataFrame(data={'Train Predictions':train_predictions, 'Actuals':y_train1.flatten()})\n",
    "train_results.head(30)"
   ]
  },
  {
   "cell_type": "code",
   "execution_count": 25,
   "id": "50fdd92d",
   "metadata": {},
   "outputs": [
    {
     "data": {
      "text/plain": [
       "[<matplotlib.lines.Line2D at 0x296229e6310>]"
      ]
     },
     "execution_count": 25,
     "metadata": {},
     "output_type": "execute_result"
    },
    {
     "data": {
      "image/png": "[encoded data removed]",
      "text/plain": [
       "<Figure size 640x480 with 1 Axes>"
      ]
     },
     "metadata": {},
     "output_type": "display_data"
    }
   ],
   "source": [
    "%matplotlib inline\n",
    "\n",
    "import matplotlib.pyplot as plt\n",
    "plt.plot(train_results['Train Predictions'][50:100])\n",
    "plt.plot(train_results['Actuals'][50:100])"
   ]
  },
  {
   "cell_type": "code",
   "execution_count": 26,
   "id": "479e2029",
   "metadata": {},
   "outputs": [
    {
     "name": "stdout",
     "output_type": "stream",
     "text": [
      "274/274 [==============================] - 1s 4ms/step\n"
     ]
    },
    {
     "data": {
      "text/html": [
       "<div>\n",
       "<style scoped>\n",
       "    .dataframe tbody tr th:only-of-type {\n",
       "        vertical-align: middle;\n",
       "    }\n",
       "\n",
       "    .dataframe tbody tr th {\n",
       "        vertical-align: top;\n",
       "    }\n",
       "\n",
       "    .dataframe thead th {\n",
       "        text-align: right;\n",
       "    }\n",
       "</style>\n",
       "<table border=\"1\" class=\"dataframe\">\n",
       "  <thead>\n",
       "    <tr style=\"text-align: right;\">\n",
       "      <th></th>\n",
       "      <th>Val Predictions</th>\n",
       "      <th>Actuals</th>\n",
       "    </tr>\n",
       "  </thead>\n",
       "  <tbody>\n",
       "    <tr>\n",
       "      <th>0</th>\n",
       "      <td>99.763573</td>\n",
       "      <td>113.43</td>\n",
       "    </tr>\n",
       "    <tr>\n",
       "      <th>1</th>\n",
       "      <td>365.931366</td>\n",
       "      <td>434.08</td>\n",
       "    </tr>\n",
       "    <tr>\n",
       "      <th>2</th>\n",
       "      <td>673.734253</td>\n",
       "      <td>702.59</td>\n",
       "    </tr>\n",
       "    <tr>\n",
       "      <th>3</th>\n",
       "      <td>881.408203</td>\n",
       "      <td>903.86</td>\n",
       "    </tr>\n",
       "    <tr>\n",
       "      <th>4</th>\n",
       "      <td>1025.552612</td>\n",
       "      <td>1025.43</td>\n",
       "    </tr>\n",
       "    <tr>\n",
       "      <th>5</th>\n",
       "      <td>1059.540649</td>\n",
       "      <td>1073.10</td>\n",
       "    </tr>\n",
       "    <tr>\n",
       "      <th>6</th>\n",
       "      <td>1010.803406</td>\n",
       "      <td>1036.55</td>\n",
       "    </tr>\n",
       "    <tr>\n",
       "      <th>7</th>\n",
       "      <td>904.392090</td>\n",
       "      <td>915.12</td>\n",
       "    </tr>\n",
       "    <tr>\n",
       "      <th>8</th>\n",
       "      <td>687.521118</td>\n",
       "      <td>731.26</td>\n",
       "    </tr>\n",
       "    <tr>\n",
       "      <th>9</th>\n",
       "      <td>478.297119</td>\n",
       "      <td>491.41</td>\n",
       "    </tr>\n",
       "    <tr>\n",
       "      <th>10</th>\n",
       "      <td>218.720795</td>\n",
       "      <td>224.16</td>\n",
       "    </tr>\n",
       "    <tr>\n",
       "      <th>11</th>\n",
       "      <td>9.565475</td>\n",
       "      <td>0.00</td>\n",
       "    </tr>\n",
       "    <tr>\n",
       "      <th>12</th>\n",
       "      <td>0.229662</td>\n",
       "      <td>0.00</td>\n",
       "    </tr>\n",
       "    <tr>\n",
       "      <th>13</th>\n",
       "      <td>-0.013345</td>\n",
       "      <td>0.00</td>\n",
       "    </tr>\n",
       "    <tr>\n",
       "      <th>14</th>\n",
       "      <td>-0.024252</td>\n",
       "      <td>0.00</td>\n",
       "    </tr>\n",
       "    <tr>\n",
       "      <th>15</th>\n",
       "      <td>0.029201</td>\n",
       "      <td>0.00</td>\n",
       "    </tr>\n",
       "    <tr>\n",
       "      <th>16</th>\n",
       "      <td>-0.028403</td>\n",
       "      <td>0.00</td>\n",
       "    </tr>\n",
       "    <tr>\n",
       "      <th>17</th>\n",
       "      <td>-0.040726</td>\n",
       "      <td>0.00</td>\n",
       "    </tr>\n",
       "    <tr>\n",
       "      <th>18</th>\n",
       "      <td>-0.045057</td>\n",
       "      <td>0.00</td>\n",
       "    </tr>\n",
       "    <tr>\n",
       "      <th>19</th>\n",
       "      <td>-0.041429</td>\n",
       "      <td>0.00</td>\n",
       "    </tr>\n",
       "  </tbody>\n",
       "</table>\n",
       "</div>"
      ],
      "text/plain": [
       "    Val Predictions  Actuals\n",
       "0         99.763573   113.43\n",
       "1        365.931366   434.08\n",
       "2        673.734253   702.59\n",
       "3        881.408203   903.86\n",
       "4       1025.552612  1025.43\n",
       "5       1059.540649  1073.10\n",
       "6       1010.803406  1036.55\n",
       "7        904.392090   915.12\n",
       "8        687.521118   731.26\n",
       "9        478.297119   491.41\n",
       "10       218.720795   224.16\n",
       "11         9.565475     0.00\n",
       "12         0.229662     0.00\n",
       "13        -0.013345     0.00\n",
       "14        -0.024252     0.00\n",
       "15         0.029201     0.00\n",
       "16        -0.028403     0.00\n",
       "17        -0.040726     0.00\n",
       "18        -0.045057     0.00\n",
       "19        -0.041429     0.00"
      ]
     },
     "execution_count": 26,
     "metadata": {},
     "output_type": "execute_result"
    }
   ],
   "source": [
    "\n",
    "val_predictions = model1.predict(X_val1).flatten()\n",
    "val_results = pd.DataFrame(data={'Val Predictions':val_predictions, 'Actuals':y_val1.flatten()})\n",
    "val_results.head(20)"
   ]
  },
  {
   "cell_type": "code",
   "execution_count": 28,
   "id": "f535c6a7",
   "metadata": {},
   "outputs": [
    {
     "data": {
      "text/plain": [
       "<matplotlib.legend.Legend at 0x2962c26e850>"
      ]
     },
     "execution_count": 28,
     "metadata": {},
     "output_type": "execute_result"
    },
    {
     "data": {
      "image/png": "[encoded data removed]",
      "text/plain": [
       "<Figure size 640x480 with 1 Axes>"
      ]
     },
     "metadata": {},
     "output_type": "display_data"
    }
   ],
   "source": [
    "plt.plot(val_results['Val Predictions'][50:100],label=\"val\", color=\"blue\")\n",
    "plt.plot(val_results['Actuals'][50:100],label=\"Actuals\", color=\"red\")\n",
    "plt.legend()"
   ]
  },
  {
   "cell_type": "code",
   "execution_count": 29,
   "id": "d68a14e7",
   "metadata": {},
   "outputs": [
    {
     "name": "stdout",
     "output_type": "stream",
     "text": [
      "822/822 [==============================] - 3s 3ms/step\n"
     ]
    },
    {
     "data": {
      "text/html": [
       "<div>\n",
       "<style scoped>\n",
       "    .dataframe tbody tr th:only-of-type {\n",
       "        vertical-align: middle;\n",
       "    }\n",
       "\n",
       "    .dataframe tbody tr th {\n",
       "        vertical-align: top;\n",
       "    }\n",
       "\n",
       "    .dataframe thead th {\n",
       "        text-align: right;\n",
       "    }\n",
       "</style>\n",
       "<table border=\"1\" class=\"dataframe\">\n",
       "  <thead>\n",
       "    <tr style=\"text-align: right;\">\n",
       "      <th></th>\n",
       "      <th>Test Predictions</th>\n",
       "      <th>Actuals</th>\n",
       "    </tr>\n",
       "  </thead>\n",
       "  <tbody>\n",
       "    <tr>\n",
       "      <th>0</th>\n",
       "      <td>264.442902</td>\n",
       "      <td>393.44</td>\n",
       "    </tr>\n",
       "    <tr>\n",
       "      <th>1</th>\n",
       "      <td>654.346497</td>\n",
       "      <td>665.81</td>\n",
       "    </tr>\n",
       "    <tr>\n",
       "      <th>2</th>\n",
       "      <td>855.214050</td>\n",
       "      <td>869.26</td>\n",
       "    </tr>\n",
       "    <tr>\n",
       "      <th>3</th>\n",
       "      <td>993.647766</td>\n",
       "      <td>995.45</td>\n",
       "    </tr>\n",
       "    <tr>\n",
       "      <th>4</th>\n",
       "      <td>1041.444580</td>\n",
       "      <td>1054.94</td>\n",
       "    </tr>\n",
       "    <tr>\n",
       "      <th>...</th>\n",
       "      <td>...</td>\n",
       "      <td>...</td>\n",
       "    </tr>\n",
       "    <tr>\n",
       "      <th>26293</th>\n",
       "      <td>-0.026129</td>\n",
       "      <td>0.00</td>\n",
       "    </tr>\n",
       "    <tr>\n",
       "      <th>26294</th>\n",
       "      <td>0.028768</td>\n",
       "      <td>0.00</td>\n",
       "    </tr>\n",
       "    <tr>\n",
       "      <th>26295</th>\n",
       "      <td>-0.028403</td>\n",
       "      <td>0.00</td>\n",
       "    </tr>\n",
       "    <tr>\n",
       "      <th>26296</th>\n",
       "      <td>-0.040726</td>\n",
       "      <td>0.00</td>\n",
       "    </tr>\n",
       "    <tr>\n",
       "      <th>26297</th>\n",
       "      <td>-0.045057</td>\n",
       "      <td>0.00</td>\n",
       "    </tr>\n",
       "  </tbody>\n",
       "</table>\n",
       "<p>26298 rows × 2 columns</p>\n",
       "</div>"
      ],
      "text/plain": [
       "       Test Predictions  Actuals\n",
       "0            264.442902   393.44\n",
       "1            654.346497   665.81\n",
       "2            855.214050   869.26\n",
       "3            993.647766   995.45\n",
       "4           1041.444580  1054.94\n",
       "...                 ...      ...\n",
       "26293         -0.026129     0.00\n",
       "26294          0.028768     0.00\n",
       "26295         -0.028403     0.00\n",
       "26296         -0.040726     0.00\n",
       "26297         -0.045057     0.00\n",
       "\n",
       "[26298 rows x 2 columns]"
      ]
     },
     "execution_count": 29,
     "metadata": {},
     "output_type": "execute_result"
    }
   ],
   "source": [
    "test_predictions = model1.predict(X_test1).flatten()\n",
    "test_results = pd.DataFrame(data={'Test Predictions':test_predictions, 'Actuals':y_test1.flatten()})\n",
    "test_results"
   ]
  },
  {
   "cell_type": "code",
   "execution_count": 30,
   "id": "91a07b9d",
   "metadata": {},
   "outputs": [],
   "source": [
    "from sklearn.metrics import mean_squared_error as mse\n",
    "\n",
    "def plot_predictions1(model, X, y, start=50, end=100):\n",
    "  predictions = model.predict(X).flatten()\n",
    "  df = pd.DataFrame(data={'Predictions': predictions, 'Actuals':y})\n",
    "  plt.plot(df['Predictions'][start:end])\n",
    "  plt.plot(df['Actuals'][start:end])\n",
    "  return df, mse(predictions, y)"
   ]
  },
  {
   "cell_type": "code",
   "execution_count": 31,
   "id": "86df6333",
   "metadata": {},
   "outputs": [
    {
     "name": "stdout",
     "output_type": "stream",
     "text": [
      "822/822 [==============================] - 3s 3ms/step\n"
     ]
    },
    {
     "data": {
      "text/plain": [
       "(       Predictions  Actuals\n",
       " 0       264.442902   393.44\n",
       " 1       654.346497   665.81\n",
       " 2       855.214050   869.26\n",
       " 3       993.647766   995.45\n",
       " 4      1041.444580  1054.94\n",
       " ...            ...      ...\n",
       " 26293    -0.026129     0.00\n",
       " 26294     0.028768     0.00\n",
       " 26295    -0.028403     0.00\n",
       " 26296    -0.040726     0.00\n",
       " 26297    -0.045057     0.00\n",
       " \n",
       " [26298 rows x 2 columns],\n",
       " 5722.108435511027)"
      ]
     },
     "execution_count": 31,
     "metadata": {},
     "output_type": "execute_result"
    },
    {
     "data": {
      "image/png": "[encoded data removed]",
      "text/plain": [
       "<Figure size 640x480 with 1 Axes>"
      ]
     },
     "metadata": {},
     "output_type": "display_data"
    }
   ],
   "source": [
    "plot_predictions1(model1, X_test1, y_test1.flatten())"
   ]
  },
  {
   "cell_type": "code",
   "execution_count": 33,
   "id": "ddc56b17-f726-4fbc-842d-531cb53091a9",
   "metadata": {},
   "outputs": [
    {
     "data": {
      "text/html": [
       "<div>\n",
       "<style scoped>\n",
       "    .dataframe tbody tr th:only-of-type {\n",
       "        vertical-align: middle;\n",
       "    }\n",
       "\n",
       "    .dataframe tbody tr th {\n",
       "        vertical-align: top;\n",
       "    }\n",
       "\n",
       "    .dataframe thead th {\n",
       "        text-align: right;\n",
       "    }\n",
       "</style>\n",
       "<table border=\"1\" class=\"dataframe\">\n",
       "  <thead>\n",
       "    <tr style=\"text-align: right;\">\n",
       "      <th></th>\n",
       "      <th>G(i)</th>\n",
       "      <th>day sin</th>\n",
       "      <th>day cos</th>\n",
       "    </tr>\n",
       "    <tr>\n",
       "      <th>time</th>\n",
       "      <th></th>\n",
       "      <th></th>\n",
       "      <th></th>\n",
       "    </tr>\n",
       "  </thead>\n",
       "  <tbody>\n",
       "    <tr>\n",
       "      <th>2019-01-01 01:07:00</th>\n",
       "      <td>0.00</td>\n",
       "      <td>0.288196</td>\n",
       "      <td>0.957571</td>\n",
       "    </tr>\n",
       "    <tr>\n",
       "      <th>2019-01-01 02:07:00</th>\n",
       "      <td>0.00</td>\n",
       "      <td>0.526214</td>\n",
       "      <td>0.850352</td>\n",
       "    </tr>\n",
       "    <tr>\n",
       "      <th>2019-01-01 03:07:00</th>\n",
       "      <td>0.00</td>\n",
       "      <td>0.728371</td>\n",
       "      <td>0.685183</td>\n",
       "    </tr>\n",
       "    <tr>\n",
       "      <th>2019-01-01 04:07:00</th>\n",
       "      <td>46.98</td>\n",
       "      <td>0.880891</td>\n",
       "      <td>0.473320</td>\n",
       "    </tr>\n",
       "    <tr>\n",
       "      <th>2019-01-01 05:07:00</th>\n",
       "      <td>449.76</td>\n",
       "      <td>0.973379</td>\n",
       "      <td>0.229200</td>\n",
       "    </tr>\n",
       "    <tr>\n",
       "      <th>2019-01-01 06:07:00</th>\n",
       "      <td>707.26</td>\n",
       "      <td>0.999534</td>\n",
       "      <td>-0.030539</td>\n",
       "    </tr>\n",
       "    <tr>\n",
       "      <th>2019-01-01 07:07:00</th>\n",
       "      <td>902.77</td>\n",
       "      <td>0.957571</td>\n",
       "      <td>-0.288196</td>\n",
       "    </tr>\n",
       "    <tr>\n",
       "      <th>2019-01-01 08:07:00</th>\n",
       "      <td>1024.41</td>\n",
       "      <td>0.850352</td>\n",
       "      <td>-0.526214</td>\n",
       "    </tr>\n",
       "    <tr>\n",
       "      <th>2019-01-01 09:07:00</th>\n",
       "      <td>1072.31</td>\n",
       "      <td>0.685183</td>\n",
       "      <td>-0.728371</td>\n",
       "    </tr>\n",
       "    <tr>\n",
       "      <th>2019-01-01 10:07:00</th>\n",
       "      <td>1035.86</td>\n",
       "      <td>0.473320</td>\n",
       "      <td>-0.880891</td>\n",
       "    </tr>\n",
       "    <tr>\n",
       "      <th>2019-01-01 11:07:00</th>\n",
       "      <td>926.62</td>\n",
       "      <td>0.229200</td>\n",
       "      <td>-0.973379</td>\n",
       "    </tr>\n",
       "    <tr>\n",
       "      <th>2019-01-01 12:07:00</th>\n",
       "      <td>740.38</td>\n",
       "      <td>-0.030539</td>\n",
       "      <td>-0.999534</td>\n",
       "    </tr>\n",
       "    <tr>\n",
       "      <th>2019-01-01 13:07:00</th>\n",
       "      <td>487.93</td>\n",
       "      <td>-0.288196</td>\n",
       "      <td>-0.957571</td>\n",
       "    </tr>\n",
       "    <tr>\n",
       "      <th>2019-01-01 14:07:00</th>\n",
       "      <td>225.58</td>\n",
       "      <td>-0.526214</td>\n",
       "      <td>-0.850352</td>\n",
       "    </tr>\n",
       "    <tr>\n",
       "      <th>2019-01-01 15:07:00</th>\n",
       "      <td>0.00</td>\n",
       "      <td>-0.728371</td>\n",
       "      <td>-0.685183</td>\n",
       "    </tr>\n",
       "    <tr>\n",
       "      <th>2019-01-01 16:07:00</th>\n",
       "      <td>0.00</td>\n",
       "      <td>-0.880891</td>\n",
       "      <td>-0.473320</td>\n",
       "    </tr>\n",
       "    <tr>\n",
       "      <th>2019-01-01 17:07:00</th>\n",
       "      <td>0.00</td>\n",
       "      <td>-0.973379</td>\n",
       "      <td>-0.229200</td>\n",
       "    </tr>\n",
       "    <tr>\n",
       "      <th>2019-01-01 18:07:00</th>\n",
       "      <td>0.00</td>\n",
       "      <td>-0.999534</td>\n",
       "      <td>0.030539</td>\n",
       "    </tr>\n",
       "    <tr>\n",
       "      <th>2019-01-01 19:07:00</th>\n",
       "      <td>0.00</td>\n",
       "      <td>-0.957571</td>\n",
       "      <td>0.288196</td>\n",
       "    </tr>\n",
       "    <tr>\n",
       "      <th>2019-01-01 20:07:00</th>\n",
       "      <td>0.00</td>\n",
       "      <td>-0.850352</td>\n",
       "      <td>0.526214</td>\n",
       "    </tr>\n",
       "    <tr>\n",
       "      <th>2019-01-01 21:07:00</th>\n",
       "      <td>0.00</td>\n",
       "      <td>-0.685183</td>\n",
       "      <td>0.728371</td>\n",
       "    </tr>\n",
       "    <tr>\n",
       "      <th>2019-01-01 22:07:00</th>\n",
       "      <td>0.00</td>\n",
       "      <td>-0.473320</td>\n",
       "      <td>0.880891</td>\n",
       "    </tr>\n",
       "    <tr>\n",
       "      <th>2019-01-01 23:07:00</th>\n",
       "      <td>0.00</td>\n",
       "      <td>-0.229200</td>\n",
       "      <td>0.973379</td>\n",
       "    </tr>\n",
       "    <tr>\n",
       "      <th>2019-01-02 00:07:00</th>\n",
       "      <td>0.00</td>\n",
       "      <td>0.030539</td>\n",
       "      <td>0.999534</td>\n",
       "    </tr>\n",
       "    <tr>\n",
       "      <th>2019-01-02 01:07:00</th>\n",
       "      <td>0.00</td>\n",
       "      <td>0.288196</td>\n",
       "      <td>0.957571</td>\n",
       "    </tr>\n",
       "    <tr>\n",
       "      <th>2019-01-02 02:07:00</th>\n",
       "      <td>0.00</td>\n",
       "      <td>0.526214</td>\n",
       "      <td>0.850352</td>\n",
       "    </tr>\n",
       "    <tr>\n",
       "      <th>2019-01-02 03:07:00</th>\n",
       "      <td>0.00</td>\n",
       "      <td>0.728371</td>\n",
       "      <td>0.685183</td>\n",
       "    </tr>\n",
       "    <tr>\n",
       "      <th>2019-01-02 04:07:00</th>\n",
       "      <td>39.28</td>\n",
       "      <td>0.880891</td>\n",
       "      <td>0.473320</td>\n",
       "    </tr>\n",
       "    <tr>\n",
       "      <th>2019-01-02 05:07:00</th>\n",
       "      <td>414.34</td>\n",
       "      <td>0.973379</td>\n",
       "      <td>0.229200</td>\n",
       "    </tr>\n",
       "    <tr>\n",
       "      <th>2019-01-02 06:07:00</th>\n",
       "      <td>677.52</td>\n",
       "      <td>0.999534</td>\n",
       "      <td>-0.030539</td>\n",
       "    </tr>\n",
       "    <tr>\n",
       "      <th>2019-01-02 07:07:00</th>\n",
       "      <td>870.56</td>\n",
       "      <td>0.957571</td>\n",
       "      <td>-0.288196</td>\n",
       "    </tr>\n",
       "  </tbody>\n",
       "</table>\n",
       "</div>"
      ],
      "text/plain": [
       "                        G(i)   day sin   day cos\n",
       "time                                            \n",
       "2019-01-01 01:07:00     0.00  0.288196  0.957571\n",
       "2019-01-01 02:07:00     0.00  0.526214  0.850352\n",
       "2019-01-01 03:07:00     0.00  0.728371  0.685183\n",
       "2019-01-01 04:07:00    46.98  0.880891  0.473320\n",
       "2019-01-01 05:07:00   449.76  0.973379  0.229200\n",
       "2019-01-01 06:07:00   707.26  0.999534 -0.030539\n",
       "2019-01-01 07:07:00   902.77  0.957571 -0.288196\n",
       "2019-01-01 08:07:00  1024.41  0.850352 -0.526214\n",
       "2019-01-01 09:07:00  1072.31  0.685183 -0.728371\n",
       "2019-01-01 10:07:00  1035.86  0.473320 -0.880891\n",
       "2019-01-01 11:07:00   926.62  0.229200 -0.973379\n",
       "2019-01-01 12:07:00   740.38 -0.030539 -0.999534\n",
       "2019-01-01 13:07:00   487.93 -0.288196 -0.957571\n",
       "2019-01-01 14:07:00   225.58 -0.526214 -0.850352\n",
       "2019-01-01 15:07:00     0.00 -0.728371 -0.685183\n",
       "2019-01-01 16:07:00     0.00 -0.880891 -0.473320\n",
       "2019-01-01 17:07:00     0.00 -0.973379 -0.229200\n",
       "2019-01-01 18:07:00     0.00 -0.999534  0.030539\n",
       "2019-01-01 19:07:00     0.00 -0.957571  0.288196\n",
       "2019-01-01 20:07:00     0.00 -0.850352  0.526214\n",
       "2019-01-01 21:07:00     0.00 -0.685183  0.728371\n",
       "2019-01-01 22:07:00     0.00 -0.473320  0.880891\n",
       "2019-01-01 23:07:00     0.00 -0.229200  0.973379\n",
       "2019-01-02 00:07:00     0.00  0.030539  0.999534\n",
       "2019-01-02 01:07:00     0.00  0.288196  0.957571\n",
       "2019-01-02 02:07:00     0.00  0.526214  0.850352\n",
       "2019-01-02 03:07:00     0.00  0.728371  0.685183\n",
       "2019-01-02 04:07:00    39.28  0.880891  0.473320\n",
       "2019-01-02 05:07:00   414.34  0.973379  0.229200\n",
       "2019-01-02 06:07:00   677.52  0.999534 -0.030539\n",
       "2019-01-02 07:07:00   870.56  0.957571 -0.288196"
      ]
     },
     "execution_count": 33,
     "metadata": {},
     "output_type": "execute_result"
    }
   ],
   "source": [
    "df_multi.iloc[78889:78920,:]"
   ]
  },
  {
   "cell_type": "code",
   "execution_count": 34,
   "id": "05d10996",
   "metadata": {},
   "outputs": [
    {
     "name": "stdout",
     "output_type": "stream",
     "text": [
      "2019-01-01 01:07:00\n",
      "<class 'pandas.core.frame.DataFrame'>\n",
      "(5, 3)\n",
      "[[[-0.73069635 -0.68518299  0.72837097]\n",
      "  [-0.73069635 -0.47331967  0.88089074]\n",
      "  [-0.73069635 -0.22920039  0.97337926]\n",
      "  [-0.73069635  0.03053851  0.99953359]\n",
      "  [-0.73069635  0.28819627  0.95757136]]]\n",
      "1/1 [==============================] - 0s 45ms/step\n",
      "-0.04116881\n"
     ]
    }
   ],
   "source": [
    "kkk = df_multi.iloc[78885:78890,:]\n",
    "time = str(df_multi.index[78889])\n",
    "print(time)\n",
    "print(type(kkk))\n",
    "print(kkk.shape)\n",
    "reshaped_array = np.reshape(kkk.to_numpy(), (1, 5, 3))\n",
    "preprocess(reshaped_array)\n",
    "print(reshaped_array)\n",
    "predictions = model1.predict(reshaped_array)\n",
    "print(predictions[0][0])\n",
    "\n",
    "# original= scaler.inverse_transform(predictions)\n",
    "# print(original)\n",
    "# predictions\n",
    "# inverse_data = np.zeros((len(predictions), scaler.shape[1]))"
   ]
  },
  {
   "cell_type": "code",
   "execution_count": 35,
   "id": "67b47b0b-140c-4e8b-a0d8-e5351710be09",
   "metadata": {},
   "outputs": [],
   "source": [
    "from datetime import datetime, timedelta\n",
    "\n",
    "def get_next_24_hours_from_datetime(start_datetime_str):\n",
    "    \"\"\"\n",
    "    Generate a list of strings representing the datetime for the next 24 hours,\n",
    "    given the start datetime in the format \"YYYY-MM-DD HH:MM:SS\".\n",
    "\n",
    "    Parameters:\n",
    "    - start_datetime_str (str): The starting datetime in the format \"YYYY-MM-DD HH:MM:SS\".\n",
    "\n",
    "    Returns:\n",
    "    - list of strings: Each string contains the datetime for the next 24 hours in the format \"YYYY-MM-DD HH:MM:SS\".\n",
    "    \"\"\"\n",
    "    # Convert the input string to a datetime object\n",
    "    start_datetime = datetime.strptime(start_datetime_str, \"%Y-%m-%d %H:%M:%S\")\n",
    "\n",
    "    # Initialize a list to hold the future datetimes in the desired format\n",
    "    future_datetimes_formatted = []\n",
    "    day_sin= []\n",
    "    day_cos= []\n",
    "\n",
    "    # Calculate and format the next 24 hours\n",
    "    for i in range(2, 26):  # Start from 1 to include the next hour immediately\n",
    "        future_datetime = start_datetime + timedelta(hours=i)\n",
    "        timeStamp = future_datetime.timestamp()\n",
    "        day_sin_ = np.sin(timeStamp * ( 2 * np.pi /day))\n",
    "        day_cos_ = np.cos(timeStamp * ( 2 * np.pi /day))\n",
    "        day_sin.append(day_sin_)\n",
    "        day_cos.append(day_cos_)\n",
    "        \n",
    "    return day_cos,day_sin\n"
   ]
  },
  {
   "cell_type": "code",
   "execution_count": 36,
   "id": "e15c566d-9834-41b1-a2cd-a637127727b2",
   "metadata": {},
   "outputs": [],
   "source": [
    "day_cos, day_sin = get_next_24_hours_from_datetime(time)"
   ]
  },
  {
   "cell_type": "code",
   "execution_count": 38,
   "id": "8d388065",
   "metadata": {},
   "outputs": [
    {
     "name": "stdout",
     "output_type": "stream",
     "text": [
      "1/1 [==============================] - 0s 59ms/step\n",
      "1/1 [==============================] - 0s 50ms/step\n",
      "1/1 [==============================] - 0s 50ms/step\n",
      "1/1 [==============================] - 0s 44ms/step\n",
      "1/1 [==============================] - 0s 52ms/step\n",
      "1/1 [==============================] - 0s 50ms/step\n",
      "1/1 [==============================] - 0s 51ms/step\n",
      "1/1 [==============================] - 0s 50ms/step\n",
      "1/1 [==============================] - 0s 50ms/step\n",
      "1/1 [==============================] - 0s 35ms/step\n",
      "1/1 [==============================] - 0s 33ms/step\n",
      "1/1 [==============================] - 0s 32ms/step\n",
      "1/1 [==============================] - 0s 48ms/step\n",
      "1/1 [==============================] - 0s 48ms/step\n",
      "1/1 [==============================] - 0s 49ms/step\n",
      "1/1 [==============================] - 0s 48ms/step\n",
      "1/1 [==============================] - 0s 48ms/step\n",
      "1/1 [==============================] - 0s 50ms/step\n",
      "1/1 [==============================] - 0s 53ms/step\n",
      "1/1 [==============================] - 0s 49ms/step\n",
      "1/1 [==============================] - 0s 50ms/step\n",
      "1/1 [==============================] - 0s 49ms/step\n",
      "1/1 [==============================] - 0s 48ms/step\n",
      "1/1 [==============================] - 0s 48ms/step\n",
      "[-0.03995049, -0.009817481, 99.68768, 350.03638, 614.752, 835.05597, 978.7041, 915.2076, 791.64276, 688.01935, 445.7812, 254.03961, 62.512157, 0.95173085, 0.3660965, -0.04393184, -0.07812345, -0.011461735, -0.028522372, -0.040802002, -0.045092106, -0.041429043, -0.03064096, -0.021134853]\n"
     ]
    }
   ],
   "source": [
    "\n",
    "input = df_scaled[78885:78890,:]  # Initial input extracted from your original scaled DataFrame\n",
    "output_scaled = []  \n",
    "output_not_scaled = [] \n",
    "\n",
    "for i in range(24):\n",
    "    # Reshape input for the model prediction\n",
    "    reshaped_array = np.reshape(input, (1, 5, 3))\n",
    "    preprocess(reshaped_array)\n",
    "    prediction = []\n",
    "    prediction.append( model1.predict(reshaped_array)[0][0])\n",
    "    prediction.append(day_sin[i])\n",
    "    prediction.append(day_cos[i])\n",
    "    \n",
    "    \n",
    "    \n",
    "    # Reshape the prediction to match the input shape if necessary\n",
    "    # Adjust the reshaping based on the actual shape of your model's output\n",
    "    prediction_reshaped = np.reshape(prediction, (1, 3))\n",
    "    input = np.reshape(input, (5, 3))  # Ensure input is in the correct shape before appending\n",
    "    # Append the new prediction at the end of the input array\n",
    "    input = np.vstack([input, prediction_reshaped])  # Stack vertically to add as a new row\n",
    "    \n",
    "    # Remove the oldest entry to maintain the sliding window of input data\n",
    "    input = input[1:, :]  # Keep the last 5 entries, including the newly added prediction\n",
    "    \n",
    "    output_scaled.append(prediction[0])\n",
    "\n",
    "\n",
    "# print(output_scaled)  # Remains empty, uncomment if needed\n",
    "print(output_scaled)  # Print or process the predictions as \n",
    "\n",
    "\n"
   ]
  },
  {
   "cell_type": "code",
   "execution_count": 39,
   "id": "0c262722",
   "metadata": {},
   "outputs": [
    {
     "name": "stdout",
     "output_type": "stream",
     "text": [
      "this is the real scaled output\n",
      "-0.03995049\n",
      "-0.009817481\n",
      "99.68768\n",
      "350.03638\n",
      "614.752\n",
      "835.05597\n",
      "978.7041\n",
      "915.2076\n",
      "791.64276\n",
      "688.01935\n",
      "445.7812\n",
      "254.03961\n",
      "62.512157\n",
      "0.95173085\n",
      "0.3660965\n",
      "-0.04393184\n",
      "-0.07812345\n",
      "-0.011461735\n",
      "-0.028522372\n",
      "-0.040802002\n",
      "-0.045092106\n",
      "-0.041429043\n",
      "-0.03064096\n",
      "-0.021134853\n"
     ]
    }
   ],
   "source": [
    "print(\"this is the real scaled output\")\n",
    "for i in output_scaled:\n",
    "    print(i)"
   ]
  },
  {
   "cell_type": "code",
   "execution_count": null,
   "id": "dc28c8eb",
   "metadata": {},
   "outputs": [],
   "source": []
  },
  {
   "cell_type": "code",
   "execution_count": null,
   "id": "2709c5a1",
   "metadata": {},
   "outputs": [],
   "source": []
  },
  {
   "cell_type": "code",
   "execution_count": null,
   "id": "2c3d49a3",
   "metadata": {},
   "outputs": [],
   "source": []
  },
  {
   "cell_type": "code",
   "execution_count": null,
   "id": "1dc124bd",
   "metadata": {},
   "outputs": [],
   "source": []
  },
  {
   "cell_type": "code",
   "execution_count": null,
   "id": "96f37ea1",
   "metadata": {},
   "outputs": [],
   "source": []
  },
  {
   "cell_type": "code",
   "execution_count": null,
   "id": "eba8093b",
   "metadata": {},
   "outputs": [],
   "source": []
  }
 ],
 "metadata": {
  "kernelspec": {
   "display_name": "Python 3 (ipykernel)",
   "language": "python",
   "name": "python3"
  },
  "language_info": {
   "codemirror_mode": {
    "name": "ipython",
    "version": 3
   },
   "file_extension": ".py",
   "mimetype": "text/x-python",
   "name": "python",
   "nbconvert_exporter": "python",
   "pygments_lexer": "ipython3",
   "version": "3.8.15"
  }
 },
 "nbformat": 4,
 "nbformat_minor": 5
}
